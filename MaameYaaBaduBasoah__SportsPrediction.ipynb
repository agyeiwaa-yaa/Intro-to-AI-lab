{
  "nbformat": 4,
  "nbformat_minor": 0,
  "metadata": {
    "colab": {
      "provenance": []
    },
    "kernelspec": {
      "name": "python3",
      "display_name": "Python 3"
    },
    "language_info": {
      "name": "python"
    }
  },
  "cells": [
    {
      "cell_type": "code",
      "execution_count": 1,
      "metadata": {
        "id": "o-WscRbjPSo3"
      },
      "outputs": [],
      "source": [
        "import pandas as pd\n",
        "import numpy as np\n",
        "from sklearn.preprocessing import LabelEncoder, OneHotEncoder\n",
        "import os\n",
        "from sklearn import tree, metrics\n",
        "from sklearn.impute import SimpleImputer\n",
        "from sklearn.model_selection import train_test_split\n",
        "from sklearn.metrics import mean_absolute_error, mean_squared_error\n",
        "from xgboost import XGBRegressor\n",
        "from sklearn.ensemble import RandomForestRegressor\n",
        "from sklearn.ensemble import GradientBoostingRegressor\n",
        "from sklearn.model_selection import GridSearchCV\n",
        "from sklearn.ensemble import VotingRegressor\n",
        "import matplotlib.pyplot as plt\n",
        "from scipy.stats import norm\n",
        "import seaborn as sns\n",
        "from sklearn.preprocessing import StandardScaler\n",
        "import joblib"
      ]
    },
    {
      "cell_type": "markdown",
      "source": [
        "**Mounting from Google Drive**"
      ],
      "metadata": {
        "id": "U_yli9fxR8G2"
      }
    },
    {
      "cell_type": "code",
      "source": [
        "from google.colab import drive\n",
        "drive.mount('/content/drive')"
      ],
      "metadata": {
        "colab": {
          "base_uri": "https://localhost:8080/"
        },
        "id": "bH3SaHpvPZ5m",
        "outputId": "d92934b0-2749-482f-8f95-c2c6495f8e42"
      },
      "execution_count": 2,
      "outputs": [
        {
          "output_type": "stream",
          "name": "stdout",
          "text": [
            "Drive already mounted at /content/drive; to attempt to forcibly remount, call drive.mount(\"/content/drive\", force_remount=True).\n"
          ]
        }
      ]
    },
    {
      "cell_type": "code",
      "source": [
        "mplayers = pd.read_csv('/content/drive/My Drive/players/male_players (legacy).csv')"
      ],
      "metadata": {
        "colab": {
          "base_uri": "https://localhost:8080/"
        },
        "id": "IcJXEVJqPanG",
        "outputId": "158332b6-aef7-49c2-8cd3-c8a4c735391f"
      },
      "execution_count": 3,
      "outputs": [
        {
          "output_type": "stream",
          "name": "stderr",
          "text": [
            "<ipython-input-3-e4ac2618f3a5>:1: DtypeWarning: Columns (108) have mixed types. Specify dtype option on import or set low_memory=False.\n",
            "  mplayers = pd.read_csv('/content/drive/My Drive/players/male_players (legacy).csv')\n"
          ]
        }
      ]
    },
    {
      "cell_type": "code",
      "source": [
        "pd.set_option('display.max_columns', None)"
      ],
      "metadata": {
        "id": "2YdwALjvPecf"
      },
      "execution_count": 4,
      "outputs": []
    },
    {
      "cell_type": "code",
      "source": [
        "mplayers.info()"
      ],
      "metadata": {
        "colab": {
          "base_uri": "https://localhost:8080/"
        },
        "id": "rfBrLrGRPeoq",
        "outputId": "d120fc10-c759-4e75-9961-3dff11aa4cb3"
      },
      "execution_count": 5,
      "outputs": [
        {
          "output_type": "stream",
          "name": "stdout",
          "text": [
            "<class 'pandas.core.frame.DataFrame'>\n",
            "RangeIndex: 161583 entries, 0 to 161582\n",
            "Columns: 110 entries, player_id to player_face_url\n",
            "dtypes: float64(18), int64(45), object(47)\n",
            "memory usage: 135.6+ MB\n"
          ]
        }
      ]
    },
    {
      "cell_type": "code",
      "source": [
        "\n",
        "mplayers.head()"
      ],
      "metadata": {
        "colab": {
          "base_uri": "https://localhost:8080/",
          "height": 556
        },
        "id": "P-JkGFhsVNek",
        "outputId": "0610b057-05b2-4b2f-8505-b8dd2fb2ca3e"
      },
      "execution_count": 6,
      "outputs": [
        {
          "output_type": "execute_result",
          "data": {
            "text/plain": [
              "   player_id                                        player_url  fifa_version  \\\n",
              "0     158023                /player/158023/lionel-messi/150002            15   \n",
              "1      20801  /player/20801/c-ronaldo-dos-santos-aveiro/150002            15   \n",
              "2       9014                  /player/9014/arjen-robben/150002            15   \n",
              "3      41236           /player/41236/zlatan-ibrahimovic/150002            15   \n",
              "4     167495                /player/167495/manuel-neuer/150002            15   \n",
              "\n",
              "   fifa_update fifa_update_date         short_name  \\\n",
              "0            2       2014-09-18           L. Messi   \n",
              "1            2       2014-09-18  Cristiano Ronaldo   \n",
              "2            2       2014-09-18          A. Robben   \n",
              "3            2       2014-09-18     Z. Ibrahimović   \n",
              "4            2       2014-09-18           M. Neuer   \n",
              "\n",
              "                             long_name player_positions  overall  potential  \\\n",
              "0       Lionel Andrés Messi Cuccittini               CF       93         95   \n",
              "1  Cristiano Ronaldo dos Santos Aveiro           LW, LM       92         92   \n",
              "2                         Arjen Robben       RM, LM, RW       90         90   \n",
              "3                   Zlatan Ibrahimović               ST       90         90   \n",
              "4                   Manuel Peter Neuer               GK       90         90   \n",
              "\n",
              "     value_eur  wage_eur  age         dob  height_cm  weight_kg  league_id  \\\n",
              "0  100500000.0  550000.0   27  1987-06-24        169         67       53.0   \n",
              "1   79000000.0  375000.0   29  1985-02-05        185         80       53.0   \n",
              "2   54500000.0  275000.0   30  1984-01-23        180         80       19.0   \n",
              "3   52500000.0  275000.0   32  1981-10-03        195         95       16.0   \n",
              "4   63500000.0  300000.0   28  1986-03-27        193         92       19.0   \n",
              "\n",
              "  league_name  league_level  club_team_id            club_name club_position  \\\n",
              "0     La Liga           1.0         241.0         FC Barcelona            CF   \n",
              "1     La Liga           1.0         243.0       Real Madrid CF            LW   \n",
              "2  Bundesliga           1.0          21.0    FC Bayern München           SUB   \n",
              "3     Ligue 1           1.0          73.0  Paris Saint-Germain            ST   \n",
              "4  Bundesliga           1.0          21.0    FC Bayern München            GK   \n",
              "\n",
              "   club_jersey_number club_loaned_from club_joined_date  \\\n",
              "0                10.0              NaN       2004-07-01   \n",
              "1                 7.0              NaN       2009-07-01   \n",
              "2                10.0              NaN       2009-08-28   \n",
              "3                10.0              NaN       2012-07-01   \n",
              "4                 1.0              NaN       2011-07-01   \n",
              "\n",
              "   club_contract_valid_until_year  nationality_id nationality_name  \\\n",
              "0                          2018.0              52        Argentina   \n",
              "1                          2018.0              38         Portugal   \n",
              "2                          2017.0              34      Netherlands   \n",
              "3                          2016.0              46           Sweden   \n",
              "4                          2019.0              21          Germany   \n",
              "\n",
              "   nation_team_id nation_position  nation_jersey_number preferred_foot  \\\n",
              "0          1369.0              CF                  10.0           Left   \n",
              "1          1354.0              LW                   7.0          Right   \n",
              "2        105035.0              RS                  11.0           Left   \n",
              "3          1363.0              ST                  10.0          Right   \n",
              "4          1337.0              GK                   1.0          Right   \n",
              "\n",
              "   weak_foot  skill_moves  international_reputation      work_rate  \\\n",
              "0          3            4                         5     Medium/Low   \n",
              "1          4            5                         5       High/Low   \n",
              "2          2            4                         5       High/Low   \n",
              "3          4            4                         5     Medium/Low   \n",
              "4          4            1                         5  Medium/Medium   \n",
              "\n",
              "          body_type real_face  release_clause_eur  \\\n",
              "0     Normal (170-)       Yes                 NaN   \n",
              "1     Normal (185+)       Yes                 NaN   \n",
              "2  Normal (170-185)       Yes                 NaN   \n",
              "3     Normal (185+)       Yes                 NaN   \n",
              "4     Normal (185+)       Yes                 NaN   \n",
              "\n",
              "                                         player_tags  \\\n",
              "0  #Speedster, #Dribbler, #FK Specialist, #Acroba...   \n",
              "1  #Speedster, #Dribbler, #Distance Shooter, #Acr...   \n",
              "2  #Speedster, #Dribbler, #Distance Shooter, #Acr...   \n",
              "3  #Poacher, #Aerial Threat, #Distance Shooter, #...   \n",
              "4                                                NaN   \n",
              "\n",
              "                                       player_traits  pace  shooting  passing  \\\n",
              "0  Finesse Shot, Speed Dribbler (AI), One Club Pl...  93.0      89.0     86.0   \n",
              "1  Power Free-Kick, Flair, Long Shot Taker (AI), ...  93.0      93.0     81.0   \n",
              "2  Diver, Injury Prone, Avoids Using Weaker Foot,...  93.0      86.0     83.0   \n",
              "3  Power Free-Kick, Leadership, Flair, Long Shot ...  76.0      91.0     81.0   \n",
              "4      GK Up for Corners, GK Long Throw, 1-on-1 Rush   NaN       NaN      NaN   \n",
              "\n",
              "   dribbling  defending  physic  attacking_crossing  attacking_finishing  \\\n",
              "0       96.0       27.0    63.0                  84                   94   \n",
              "1       91.0       32.0    79.0                  83                   95   \n",
              "2       92.0       32.0    64.0                  80                   85   \n",
              "3       86.0       34.0    86.0                  76                   91   \n",
              "4        NaN        NaN     NaN                  25                   25   \n",
              "\n",
              "   attacking_heading_accuracy  attacking_short_passing  attacking_volleys  \\\n",
              "0                          71                       89                 85   \n",
              "1                          86                       82                 87   \n",
              "2                          50                       86                 86   \n",
              "3                          76                       84                 92   \n",
              "4                          25                       42                 25   \n",
              "\n",
              "   skill_dribbling  skill_curve  skill_fk_accuracy  skill_long_passing  \\\n",
              "0               96           89                 90                  76   \n",
              "1               93           88                 79                  72   \n",
              "2               93           85                 83                  76   \n",
              "3               88           80                 80                  76   \n",
              "4               25           25                 25                  41   \n",
              "\n",
              "   skill_ball_control  movement_acceleration  movement_sprint_speed  \\\n",
              "0                  96                     96                     90   \n",
              "1                  92                     91                     94   \n",
              "2                  90                     93                     93   \n",
              "3                  90                     74                     77   \n",
              "4                  31                     58                     61   \n",
              "\n",
              "   movement_agility  movement_reactions  movement_balance  power_shot_power  \\\n",
              "0                94                  94                95                80   \n",
              "1                93                  90                63                94   \n",
              "2                93                  89                91                86   \n",
              "3                86                  85                41                93   \n",
              "4                43                  89                35                42   \n",
              "\n",
              "   power_jumping  power_stamina  power_strength  power_long_shots  \\\n",
              "0             73             77              60                88   \n",
              "1             94             89              79                93   \n",
              "2             61             78              65                90   \n",
              "3             72             78              93                88   \n",
              "4             78             44              83                25   \n",
              "\n",
              "   mentality_aggression  mentality_interceptions  mentality_positioning  \\\n",
              "0                    48                       22                     92   \n",
              "1                    63                       24                     91   \n",
              "2                    47                       39                     89   \n",
              "3                    84                       20                     86   \n",
              "4                    29                       30                     25   \n",
              "\n",
              "   mentality_vision  mentality_penalties  mentality_composure  \\\n",
              "0                90                   76                  NaN   \n",
              "1                81                   85                  NaN   \n",
              "2                84                   80                  NaN   \n",
              "3                83                   91                  NaN   \n",
              "4                20                   37                  NaN   \n",
              "\n",
              "   defending_marking_awareness  defending_standing_tackle  \\\n",
              "0                           25                         21   \n",
              "1                           22                         31   \n",
              "2                           29                         26   \n",
              "3                           25                         41   \n",
              "4                           25                         25   \n",
              "\n",
              "   defending_sliding_tackle  goalkeeping_diving  goalkeeping_handling  \\\n",
              "0                        20                   6                    11   \n",
              "1                        23                   7                    11   \n",
              "2                        26                  10                     8   \n",
              "3                        27                  13                    15   \n",
              "4                        25                  87                    85   \n",
              "\n",
              "   goalkeeping_kicking  goalkeeping_positioning  goalkeeping_reflexes  \\\n",
              "0                   15                       14                     8   \n",
              "1                   15                       14                    11   \n",
              "2                   11                        5                    15   \n",
              "3                   10                        9                    12   \n",
              "4                   92                       90                    86   \n",
              "\n",
              "   goalkeeping_speed    ls    st    rs    lw    lf    cf    rf    rw   lam  \\\n",
              "0                NaN  89+3  89+3  89+3  92+3  90+3  90+3  90+3  92+3  92+3   \n",
              "1                NaN  91+1  91+1  91+1  89+3  91+1  91+1  91+1  89+3  89+3   \n",
              "2                NaN  84+3  84+3  84+3  88+2  87+3  87+3  87+3  88+2  88+2   \n",
              "3                NaN  87+3  87+3  87+3  84+3  86+3  86+3  86+3  84+3  86+3   \n",
              "4               60.0  38+3  38+3  38+3  36+3  37+3  37+3  37+3  36+3  36+3   \n",
              "\n",
              "    cam   ram    lm   lcm    cm   rcm    rm   lwb   ldm   cdm   rdm   rwb  \\\n",
              "0  92+3  92+3  90+3  79+3  79+3  79+3  90+3  62+3  62+3  62+3  62+3  62+3   \n",
              "1  89+3  89+3  87+3  77+3  77+3  77+3  87+3  63+3  63+3  63+3  63+3  63+3   \n",
              "2  88+2  88+2  87+3  78+3  78+3  78+3  87+3  64+3  64+3  64+3  64+3  64+3   \n",
              "3  86+3  86+3  83+3  76+3  76+3  76+3  83+3  61+3  65+3  65+3  65+3  61+3   \n",
              "4  36+3  36+3  38+3  36+3  36+3  36+3  38+3  36+3  40+3  40+3  40+3  36+3   \n",
              "\n",
              "     lb   lcb    cb   rcb    rb    gk  \\\n",
              "0  54+3  45+3  45+3  45+3  54+3  15+3   \n",
              "1  57+3  52+3  52+3  52+3  57+3  16+3   \n",
              "2  55+3  46+3  46+3  46+3  55+3  14+3   \n",
              "3  56+3  55+3  55+3  55+3  56+3  17+3   \n",
              "4  36+3  38+3  38+3  38+3  36+3  87+3   \n",
              "\n",
              "                                     player_face_url  \n",
              "0  https://cdn.sofifa.net/players/158/023/15_120.png  \n",
              "1  https://cdn.sofifa.net/players/020/801/15_120.png  \n",
              "2  https://cdn.sofifa.net/players/009/014/15_120.png  \n",
              "3  https://cdn.sofifa.net/players/041/236/15_120.png  \n",
              "4  https://cdn.sofifa.net/players/167/495/15_120.png  "
            ],
            "text/html": [
              "\n",
              "  <div id=\"df-c3bac021-1465-41e0-bed9-a6dc3221f7ec\" class=\"colab-df-container\">\n",
              "    <div>\n",
              "<style scoped>\n",
              "    .dataframe tbody tr th:only-of-type {\n",
              "        vertical-align: middle;\n",
              "    }\n",
              "\n",
              "    .dataframe tbody tr th {\n",
              "        vertical-align: top;\n",
              "    }\n",
              "\n",
              "    .dataframe thead th {\n",
              "        text-align: right;\n",
              "    }\n",
              "</style>\n",
              "<table border=\"1\" class=\"dataframe\">\n",
              "  <thead>\n",
              "    <tr style=\"text-align: right;\">\n",
              "      <th></th>\n",
              "      <th>player_id</th>\n",
              "      <th>player_url</th>\n",
              "      <th>fifa_version</th>\n",
              "      <th>fifa_update</th>\n",
              "      <th>fifa_update_date</th>\n",
              "      <th>short_name</th>\n",
              "      <th>long_name</th>\n",
              "      <th>player_positions</th>\n",
              "      <th>overall</th>\n",
              "      <th>potential</th>\n",
              "      <th>value_eur</th>\n",
              "      <th>wage_eur</th>\n",
              "      <th>age</th>\n",
              "      <th>dob</th>\n",
              "      <th>height_cm</th>\n",
              "      <th>weight_kg</th>\n",
              "      <th>league_id</th>\n",
              "      <th>league_name</th>\n",
              "      <th>league_level</th>\n",
              "      <th>club_team_id</th>\n",
              "      <th>club_name</th>\n",
              "      <th>club_position</th>\n",
              "      <th>club_jersey_number</th>\n",
              "      <th>club_loaned_from</th>\n",
              "      <th>club_joined_date</th>\n",
              "      <th>club_contract_valid_until_year</th>\n",
              "      <th>nationality_id</th>\n",
              "      <th>nationality_name</th>\n",
              "      <th>nation_team_id</th>\n",
              "      <th>nation_position</th>\n",
              "      <th>nation_jersey_number</th>\n",
              "      <th>preferred_foot</th>\n",
              "      <th>weak_foot</th>\n",
              "      <th>skill_moves</th>\n",
              "      <th>international_reputation</th>\n",
              "      <th>work_rate</th>\n",
              "      <th>body_type</th>\n",
              "      <th>real_face</th>\n",
              "      <th>release_clause_eur</th>\n",
              "      <th>player_tags</th>\n",
              "      <th>player_traits</th>\n",
              "      <th>pace</th>\n",
              "      <th>shooting</th>\n",
              "      <th>passing</th>\n",
              "      <th>dribbling</th>\n",
              "      <th>defending</th>\n",
              "      <th>physic</th>\n",
              "      <th>attacking_crossing</th>\n",
              "      <th>attacking_finishing</th>\n",
              "      <th>attacking_heading_accuracy</th>\n",
              "      <th>attacking_short_passing</th>\n",
              "      <th>attacking_volleys</th>\n",
              "      <th>skill_dribbling</th>\n",
              "      <th>skill_curve</th>\n",
              "      <th>skill_fk_accuracy</th>\n",
              "      <th>skill_long_passing</th>\n",
              "      <th>skill_ball_control</th>\n",
              "      <th>movement_acceleration</th>\n",
              "      <th>movement_sprint_speed</th>\n",
              "      <th>movement_agility</th>\n",
              "      <th>movement_reactions</th>\n",
              "      <th>movement_balance</th>\n",
              "      <th>power_shot_power</th>\n",
              "      <th>power_jumping</th>\n",
              "      <th>power_stamina</th>\n",
              "      <th>power_strength</th>\n",
              "      <th>power_long_shots</th>\n",
              "      <th>mentality_aggression</th>\n",
              "      <th>mentality_interceptions</th>\n",
              "      <th>mentality_positioning</th>\n",
              "      <th>mentality_vision</th>\n",
              "      <th>mentality_penalties</th>\n",
              "      <th>mentality_composure</th>\n",
              "      <th>defending_marking_awareness</th>\n",
              "      <th>defending_standing_tackle</th>\n",
              "      <th>defending_sliding_tackle</th>\n",
              "      <th>goalkeeping_diving</th>\n",
              "      <th>goalkeeping_handling</th>\n",
              "      <th>goalkeeping_kicking</th>\n",
              "      <th>goalkeeping_positioning</th>\n",
              "      <th>goalkeeping_reflexes</th>\n",
              "      <th>goalkeeping_speed</th>\n",
              "      <th>ls</th>\n",
              "      <th>st</th>\n",
              "      <th>rs</th>\n",
              "      <th>lw</th>\n",
              "      <th>lf</th>\n",
              "      <th>cf</th>\n",
              "      <th>rf</th>\n",
              "      <th>rw</th>\n",
              "      <th>lam</th>\n",
              "      <th>cam</th>\n",
              "      <th>ram</th>\n",
              "      <th>lm</th>\n",
              "      <th>lcm</th>\n",
              "      <th>cm</th>\n",
              "      <th>rcm</th>\n",
              "      <th>rm</th>\n",
              "      <th>lwb</th>\n",
              "      <th>ldm</th>\n",
              "      <th>cdm</th>\n",
              "      <th>rdm</th>\n",
              "      <th>rwb</th>\n",
              "      <th>lb</th>\n",
              "      <th>lcb</th>\n",
              "      <th>cb</th>\n",
              "      <th>rcb</th>\n",
              "      <th>rb</th>\n",
              "      <th>gk</th>\n",
              "      <th>player_face_url</th>\n",
              "    </tr>\n",
              "  </thead>\n",
              "  <tbody>\n",
              "    <tr>\n",
              "      <th>0</th>\n",
              "      <td>158023</td>\n",
              "      <td>/player/158023/lionel-messi/150002</td>\n",
              "      <td>15</td>\n",
              "      <td>2</td>\n",
              "      <td>2014-09-18</td>\n",
              "      <td>L. Messi</td>\n",
              "      <td>Lionel Andrés Messi Cuccittini</td>\n",
              "      <td>CF</td>\n",
              "      <td>93</td>\n",
              "      <td>95</td>\n",
              "      <td>100500000.0</td>\n",
              "      <td>550000.0</td>\n",
              "      <td>27</td>\n",
              "      <td>1987-06-24</td>\n",
              "      <td>169</td>\n",
              "      <td>67</td>\n",
              "      <td>53.0</td>\n",
              "      <td>La Liga</td>\n",
              "      <td>1.0</td>\n",
              "      <td>241.0</td>\n",
              "      <td>FC Barcelona</td>\n",
              "      <td>CF</td>\n",
              "      <td>10.0</td>\n",
              "      <td>NaN</td>\n",
              "      <td>2004-07-01</td>\n",
              "      <td>2018.0</td>\n",
              "      <td>52</td>\n",
              "      <td>Argentina</td>\n",
              "      <td>1369.0</td>\n",
              "      <td>CF</td>\n",
              "      <td>10.0</td>\n",
              "      <td>Left</td>\n",
              "      <td>3</td>\n",
              "      <td>4</td>\n",
              "      <td>5</td>\n",
              "      <td>Medium/Low</td>\n",
              "      <td>Normal (170-)</td>\n",
              "      <td>Yes</td>\n",
              "      <td>NaN</td>\n",
              "      <td>#Speedster, #Dribbler, #FK Specialist, #Acroba...</td>\n",
              "      <td>Finesse Shot, Speed Dribbler (AI), One Club Pl...</td>\n",
              "      <td>93.0</td>\n",
              "      <td>89.0</td>\n",
              "      <td>86.0</td>\n",
              "      <td>96.0</td>\n",
              "      <td>27.0</td>\n",
              "      <td>63.0</td>\n",
              "      <td>84</td>\n",
              "      <td>94</td>\n",
              "      <td>71</td>\n",
              "      <td>89</td>\n",
              "      <td>85</td>\n",
              "      <td>96</td>\n",
              "      <td>89</td>\n",
              "      <td>90</td>\n",
              "      <td>76</td>\n",
              "      <td>96</td>\n",
              "      <td>96</td>\n",
              "      <td>90</td>\n",
              "      <td>94</td>\n",
              "      <td>94</td>\n",
              "      <td>95</td>\n",
              "      <td>80</td>\n",
              "      <td>73</td>\n",
              "      <td>77</td>\n",
              "      <td>60</td>\n",
              "      <td>88</td>\n",
              "      <td>48</td>\n",
              "      <td>22</td>\n",
              "      <td>92</td>\n",
              "      <td>90</td>\n",
              "      <td>76</td>\n",
              "      <td>NaN</td>\n",
              "      <td>25</td>\n",
              "      <td>21</td>\n",
              "      <td>20</td>\n",
              "      <td>6</td>\n",
              "      <td>11</td>\n",
              "      <td>15</td>\n",
              "      <td>14</td>\n",
              "      <td>8</td>\n",
              "      <td>NaN</td>\n",
              "      <td>89+3</td>\n",
              "      <td>89+3</td>\n",
              "      <td>89+3</td>\n",
              "      <td>92+3</td>\n",
              "      <td>90+3</td>\n",
              "      <td>90+3</td>\n",
              "      <td>90+3</td>\n",
              "      <td>92+3</td>\n",
              "      <td>92+3</td>\n",
              "      <td>92+3</td>\n",
              "      <td>92+3</td>\n",
              "      <td>90+3</td>\n",
              "      <td>79+3</td>\n",
              "      <td>79+3</td>\n",
              "      <td>79+3</td>\n",
              "      <td>90+3</td>\n",
              "      <td>62+3</td>\n",
              "      <td>62+3</td>\n",
              "      <td>62+3</td>\n",
              "      <td>62+3</td>\n",
              "      <td>62+3</td>\n",
              "      <td>54+3</td>\n",
              "      <td>45+3</td>\n",
              "      <td>45+3</td>\n",
              "      <td>45+3</td>\n",
              "      <td>54+3</td>\n",
              "      <td>15+3</td>\n",
              "      <td>https://cdn.sofifa.net/players/158/023/15_120.png</td>\n",
              "    </tr>\n",
              "    <tr>\n",
              "      <th>1</th>\n",
              "      <td>20801</td>\n",
              "      <td>/player/20801/c-ronaldo-dos-santos-aveiro/150002</td>\n",
              "      <td>15</td>\n",
              "      <td>2</td>\n",
              "      <td>2014-09-18</td>\n",
              "      <td>Cristiano Ronaldo</td>\n",
              "      <td>Cristiano Ronaldo dos Santos Aveiro</td>\n",
              "      <td>LW, LM</td>\n",
              "      <td>92</td>\n",
              "      <td>92</td>\n",
              "      <td>79000000.0</td>\n",
              "      <td>375000.0</td>\n",
              "      <td>29</td>\n",
              "      <td>1985-02-05</td>\n",
              "      <td>185</td>\n",
              "      <td>80</td>\n",
              "      <td>53.0</td>\n",
              "      <td>La Liga</td>\n",
              "      <td>1.0</td>\n",
              "      <td>243.0</td>\n",
              "      <td>Real Madrid CF</td>\n",
              "      <td>LW</td>\n",
              "      <td>7.0</td>\n",
              "      <td>NaN</td>\n",
              "      <td>2009-07-01</td>\n",
              "      <td>2018.0</td>\n",
              "      <td>38</td>\n",
              "      <td>Portugal</td>\n",
              "      <td>1354.0</td>\n",
              "      <td>LW</td>\n",
              "      <td>7.0</td>\n",
              "      <td>Right</td>\n",
              "      <td>4</td>\n",
              "      <td>5</td>\n",
              "      <td>5</td>\n",
              "      <td>High/Low</td>\n",
              "      <td>Normal (185+)</td>\n",
              "      <td>Yes</td>\n",
              "      <td>NaN</td>\n",
              "      <td>#Speedster, #Dribbler, #Distance Shooter, #Acr...</td>\n",
              "      <td>Power Free-Kick, Flair, Long Shot Taker (AI), ...</td>\n",
              "      <td>93.0</td>\n",
              "      <td>93.0</td>\n",
              "      <td>81.0</td>\n",
              "      <td>91.0</td>\n",
              "      <td>32.0</td>\n",
              "      <td>79.0</td>\n",
              "      <td>83</td>\n",
              "      <td>95</td>\n",
              "      <td>86</td>\n",
              "      <td>82</td>\n",
              "      <td>87</td>\n",
              "      <td>93</td>\n",
              "      <td>88</td>\n",
              "      <td>79</td>\n",
              "      <td>72</td>\n",
              "      <td>92</td>\n",
              "      <td>91</td>\n",
              "      <td>94</td>\n",
              "      <td>93</td>\n",
              "      <td>90</td>\n",
              "      <td>63</td>\n",
              "      <td>94</td>\n",
              "      <td>94</td>\n",
              "      <td>89</td>\n",
              "      <td>79</td>\n",
              "      <td>93</td>\n",
              "      <td>63</td>\n",
              "      <td>24</td>\n",
              "      <td>91</td>\n",
              "      <td>81</td>\n",
              "      <td>85</td>\n",
              "      <td>NaN</td>\n",
              "      <td>22</td>\n",
              "      <td>31</td>\n",
              "      <td>23</td>\n",
              "      <td>7</td>\n",
              "      <td>11</td>\n",
              "      <td>15</td>\n",
              "      <td>14</td>\n",
              "      <td>11</td>\n",
              "      <td>NaN</td>\n",
              "      <td>91+1</td>\n",
              "      <td>91+1</td>\n",
              "      <td>91+1</td>\n",
              "      <td>89+3</td>\n",
              "      <td>91+1</td>\n",
              "      <td>91+1</td>\n",
              "      <td>91+1</td>\n",
              "      <td>89+3</td>\n",
              "      <td>89+3</td>\n",
              "      <td>89+3</td>\n",
              "      <td>89+3</td>\n",
              "      <td>87+3</td>\n",
              "      <td>77+3</td>\n",
              "      <td>77+3</td>\n",
              "      <td>77+3</td>\n",
              "      <td>87+3</td>\n",
              "      <td>63+3</td>\n",
              "      <td>63+3</td>\n",
              "      <td>63+3</td>\n",
              "      <td>63+3</td>\n",
              "      <td>63+3</td>\n",
              "      <td>57+3</td>\n",
              "      <td>52+3</td>\n",
              "      <td>52+3</td>\n",
              "      <td>52+3</td>\n",
              "      <td>57+3</td>\n",
              "      <td>16+3</td>\n",
              "      <td>https://cdn.sofifa.net/players/020/801/15_120.png</td>\n",
              "    </tr>\n",
              "    <tr>\n",
              "      <th>2</th>\n",
              "      <td>9014</td>\n",
              "      <td>/player/9014/arjen-robben/150002</td>\n",
              "      <td>15</td>\n",
              "      <td>2</td>\n",
              "      <td>2014-09-18</td>\n",
              "      <td>A. Robben</td>\n",
              "      <td>Arjen Robben</td>\n",
              "      <td>RM, LM, RW</td>\n",
              "      <td>90</td>\n",
              "      <td>90</td>\n",
              "      <td>54500000.0</td>\n",
              "      <td>275000.0</td>\n",
              "      <td>30</td>\n",
              "      <td>1984-01-23</td>\n",
              "      <td>180</td>\n",
              "      <td>80</td>\n",
              "      <td>19.0</td>\n",
              "      <td>Bundesliga</td>\n",
              "      <td>1.0</td>\n",
              "      <td>21.0</td>\n",
              "      <td>FC Bayern München</td>\n",
              "      <td>SUB</td>\n",
              "      <td>10.0</td>\n",
              "      <td>NaN</td>\n",
              "      <td>2009-08-28</td>\n",
              "      <td>2017.0</td>\n",
              "      <td>34</td>\n",
              "      <td>Netherlands</td>\n",
              "      <td>105035.0</td>\n",
              "      <td>RS</td>\n",
              "      <td>11.0</td>\n",
              "      <td>Left</td>\n",
              "      <td>2</td>\n",
              "      <td>4</td>\n",
              "      <td>5</td>\n",
              "      <td>High/Low</td>\n",
              "      <td>Normal (170-185)</td>\n",
              "      <td>Yes</td>\n",
              "      <td>NaN</td>\n",
              "      <td>#Speedster, #Dribbler, #Distance Shooter, #Acr...</td>\n",
              "      <td>Diver, Injury Prone, Avoids Using Weaker Foot,...</td>\n",
              "      <td>93.0</td>\n",
              "      <td>86.0</td>\n",
              "      <td>83.0</td>\n",
              "      <td>92.0</td>\n",
              "      <td>32.0</td>\n",
              "      <td>64.0</td>\n",
              "      <td>80</td>\n",
              "      <td>85</td>\n",
              "      <td>50</td>\n",
              "      <td>86</td>\n",
              "      <td>86</td>\n",
              "      <td>93</td>\n",
              "      <td>85</td>\n",
              "      <td>83</td>\n",
              "      <td>76</td>\n",
              "      <td>90</td>\n",
              "      <td>93</td>\n",
              "      <td>93</td>\n",
              "      <td>93</td>\n",
              "      <td>89</td>\n",
              "      <td>91</td>\n",
              "      <td>86</td>\n",
              "      <td>61</td>\n",
              "      <td>78</td>\n",
              "      <td>65</td>\n",
              "      <td>90</td>\n",
              "      <td>47</td>\n",
              "      <td>39</td>\n",
              "      <td>89</td>\n",
              "      <td>84</td>\n",
              "      <td>80</td>\n",
              "      <td>NaN</td>\n",
              "      <td>29</td>\n",
              "      <td>26</td>\n",
              "      <td>26</td>\n",
              "      <td>10</td>\n",
              "      <td>8</td>\n",
              "      <td>11</td>\n",
              "      <td>5</td>\n",
              "      <td>15</td>\n",
              "      <td>NaN</td>\n",
              "      <td>84+3</td>\n",
              "      <td>84+3</td>\n",
              "      <td>84+3</td>\n",
              "      <td>88+2</td>\n",
              "      <td>87+3</td>\n",
              "      <td>87+3</td>\n",
              "      <td>87+3</td>\n",
              "      <td>88+2</td>\n",
              "      <td>88+2</td>\n",
              "      <td>88+2</td>\n",
              "      <td>88+2</td>\n",
              "      <td>87+3</td>\n",
              "      <td>78+3</td>\n",
              "      <td>78+3</td>\n",
              "      <td>78+3</td>\n",
              "      <td>87+3</td>\n",
              "      <td>64+3</td>\n",
              "      <td>64+3</td>\n",
              "      <td>64+3</td>\n",
              "      <td>64+3</td>\n",
              "      <td>64+3</td>\n",
              "      <td>55+3</td>\n",
              "      <td>46+3</td>\n",
              "      <td>46+3</td>\n",
              "      <td>46+3</td>\n",
              "      <td>55+3</td>\n",
              "      <td>14+3</td>\n",
              "      <td>https://cdn.sofifa.net/players/009/014/15_120.png</td>\n",
              "    </tr>\n",
              "    <tr>\n",
              "      <th>3</th>\n",
              "      <td>41236</td>\n",
              "      <td>/player/41236/zlatan-ibrahimovic/150002</td>\n",
              "      <td>15</td>\n",
              "      <td>2</td>\n",
              "      <td>2014-09-18</td>\n",
              "      <td>Z. Ibrahimović</td>\n",
              "      <td>Zlatan Ibrahimović</td>\n",
              "      <td>ST</td>\n",
              "      <td>90</td>\n",
              "      <td>90</td>\n",
              "      <td>52500000.0</td>\n",
              "      <td>275000.0</td>\n",
              "      <td>32</td>\n",
              "      <td>1981-10-03</td>\n",
              "      <td>195</td>\n",
              "      <td>95</td>\n",
              "      <td>16.0</td>\n",
              "      <td>Ligue 1</td>\n",
              "      <td>1.0</td>\n",
              "      <td>73.0</td>\n",
              "      <td>Paris Saint-Germain</td>\n",
              "      <td>ST</td>\n",
              "      <td>10.0</td>\n",
              "      <td>NaN</td>\n",
              "      <td>2012-07-01</td>\n",
              "      <td>2016.0</td>\n",
              "      <td>46</td>\n",
              "      <td>Sweden</td>\n",
              "      <td>1363.0</td>\n",
              "      <td>ST</td>\n",
              "      <td>10.0</td>\n",
              "      <td>Right</td>\n",
              "      <td>4</td>\n",
              "      <td>4</td>\n",
              "      <td>5</td>\n",
              "      <td>Medium/Low</td>\n",
              "      <td>Normal (185+)</td>\n",
              "      <td>Yes</td>\n",
              "      <td>NaN</td>\n",
              "      <td>#Poacher, #Aerial Threat, #Distance Shooter, #...</td>\n",
              "      <td>Power Free-Kick, Leadership, Flair, Long Shot ...</td>\n",
              "      <td>76.0</td>\n",
              "      <td>91.0</td>\n",
              "      <td>81.0</td>\n",
              "      <td>86.0</td>\n",
              "      <td>34.0</td>\n",
              "      <td>86.0</td>\n",
              "      <td>76</td>\n",
              "      <td>91</td>\n",
              "      <td>76</td>\n",
              "      <td>84</td>\n",
              "      <td>92</td>\n",
              "      <td>88</td>\n",
              "      <td>80</td>\n",
              "      <td>80</td>\n",
              "      <td>76</td>\n",
              "      <td>90</td>\n",
              "      <td>74</td>\n",
              "      <td>77</td>\n",
              "      <td>86</td>\n",
              "      <td>85</td>\n",
              "      <td>41</td>\n",
              "      <td>93</td>\n",
              "      <td>72</td>\n",
              "      <td>78</td>\n",
              "      <td>93</td>\n",
              "      <td>88</td>\n",
              "      <td>84</td>\n",
              "      <td>20</td>\n",
              "      <td>86</td>\n",
              "      <td>83</td>\n",
              "      <td>91</td>\n",
              "      <td>NaN</td>\n",
              "      <td>25</td>\n",
              "      <td>41</td>\n",
              "      <td>27</td>\n",
              "      <td>13</td>\n",
              "      <td>15</td>\n",
              "      <td>10</td>\n",
              "      <td>9</td>\n",
              "      <td>12</td>\n",
              "      <td>NaN</td>\n",
              "      <td>87+3</td>\n",
              "      <td>87+3</td>\n",
              "      <td>87+3</td>\n",
              "      <td>84+3</td>\n",
              "      <td>86+3</td>\n",
              "      <td>86+3</td>\n",
              "      <td>86+3</td>\n",
              "      <td>84+3</td>\n",
              "      <td>86+3</td>\n",
              "      <td>86+3</td>\n",
              "      <td>86+3</td>\n",
              "      <td>83+3</td>\n",
              "      <td>76+3</td>\n",
              "      <td>76+3</td>\n",
              "      <td>76+3</td>\n",
              "      <td>83+3</td>\n",
              "      <td>61+3</td>\n",
              "      <td>65+3</td>\n",
              "      <td>65+3</td>\n",
              "      <td>65+3</td>\n",
              "      <td>61+3</td>\n",
              "      <td>56+3</td>\n",
              "      <td>55+3</td>\n",
              "      <td>55+3</td>\n",
              "      <td>55+3</td>\n",
              "      <td>56+3</td>\n",
              "      <td>17+3</td>\n",
              "      <td>https://cdn.sofifa.net/players/041/236/15_120.png</td>\n",
              "    </tr>\n",
              "    <tr>\n",
              "      <th>4</th>\n",
              "      <td>167495</td>\n",
              "      <td>/player/167495/manuel-neuer/150002</td>\n",
              "      <td>15</td>\n",
              "      <td>2</td>\n",
              "      <td>2014-09-18</td>\n",
              "      <td>M. Neuer</td>\n",
              "      <td>Manuel Peter Neuer</td>\n",
              "      <td>GK</td>\n",
              "      <td>90</td>\n",
              "      <td>90</td>\n",
              "      <td>63500000.0</td>\n",
              "      <td>300000.0</td>\n",
              "      <td>28</td>\n",
              "      <td>1986-03-27</td>\n",
              "      <td>193</td>\n",
              "      <td>92</td>\n",
              "      <td>19.0</td>\n",
              "      <td>Bundesliga</td>\n",
              "      <td>1.0</td>\n",
              "      <td>21.0</td>\n",
              "      <td>FC Bayern München</td>\n",
              "      <td>GK</td>\n",
              "      <td>1.0</td>\n",
              "      <td>NaN</td>\n",
              "      <td>2011-07-01</td>\n",
              "      <td>2019.0</td>\n",
              "      <td>21</td>\n",
              "      <td>Germany</td>\n",
              "      <td>1337.0</td>\n",
              "      <td>GK</td>\n",
              "      <td>1.0</td>\n",
              "      <td>Right</td>\n",
              "      <td>4</td>\n",
              "      <td>1</td>\n",
              "      <td>5</td>\n",
              "      <td>Medium/Medium</td>\n",
              "      <td>Normal (185+)</td>\n",
              "      <td>Yes</td>\n",
              "      <td>NaN</td>\n",
              "      <td>NaN</td>\n",
              "      <td>GK Up for Corners, GK Long Throw, 1-on-1 Rush</td>\n",
              "      <td>NaN</td>\n",
              "      <td>NaN</td>\n",
              "      <td>NaN</td>\n",
              "      <td>NaN</td>\n",
              "      <td>NaN</td>\n",
              "      <td>NaN</td>\n",
              "      <td>25</td>\n",
              "      <td>25</td>\n",
              "      <td>25</td>\n",
              "      <td>42</td>\n",
              "      <td>25</td>\n",
              "      <td>25</td>\n",
              "      <td>25</td>\n",
              "      <td>25</td>\n",
              "      <td>41</td>\n",
              "      <td>31</td>\n",
              "      <td>58</td>\n",
              "      <td>61</td>\n",
              "      <td>43</td>\n",
              "      <td>89</td>\n",
              "      <td>35</td>\n",
              "      <td>42</td>\n",
              "      <td>78</td>\n",
              "      <td>44</td>\n",
              "      <td>83</td>\n",
              "      <td>25</td>\n",
              "      <td>29</td>\n",
              "      <td>30</td>\n",
              "      <td>25</td>\n",
              "      <td>20</td>\n",
              "      <td>37</td>\n",
              "      <td>NaN</td>\n",
              "      <td>25</td>\n",
              "      <td>25</td>\n",
              "      <td>25</td>\n",
              "      <td>87</td>\n",
              "      <td>85</td>\n",
              "      <td>92</td>\n",
              "      <td>90</td>\n",
              "      <td>86</td>\n",
              "      <td>60.0</td>\n",
              "      <td>38+3</td>\n",
              "      <td>38+3</td>\n",
              "      <td>38+3</td>\n",
              "      <td>36+3</td>\n",
              "      <td>37+3</td>\n",
              "      <td>37+3</td>\n",
              "      <td>37+3</td>\n",
              "      <td>36+3</td>\n",
              "      <td>36+3</td>\n",
              "      <td>36+3</td>\n",
              "      <td>36+3</td>\n",
              "      <td>38+3</td>\n",
              "      <td>36+3</td>\n",
              "      <td>36+3</td>\n",
              "      <td>36+3</td>\n",
              "      <td>38+3</td>\n",
              "      <td>36+3</td>\n",
              "      <td>40+3</td>\n",
              "      <td>40+3</td>\n",
              "      <td>40+3</td>\n",
              "      <td>36+3</td>\n",
              "      <td>36+3</td>\n",
              "      <td>38+3</td>\n",
              "      <td>38+3</td>\n",
              "      <td>38+3</td>\n",
              "      <td>36+3</td>\n",
              "      <td>87+3</td>\n",
              "      <td>https://cdn.sofifa.net/players/167/495/15_120.png</td>\n",
              "    </tr>\n",
              "  </tbody>\n",
              "</table>\n",
              "</div>\n",
              "    <div class=\"colab-df-buttons\">\n",
              "\n",
              "  <div class=\"colab-df-container\">\n",
              "    <button class=\"colab-df-convert\" onclick=\"convertToInteractive('df-c3bac021-1465-41e0-bed9-a6dc3221f7ec')\"\n",
              "            title=\"Convert this dataframe to an interactive table.\"\n",
              "            style=\"display:none;\">\n",
              "\n",
              "  <svg xmlns=\"http://www.w3.org/2000/svg\" height=\"24px\" viewBox=\"0 -960 960 960\">\n",
              "    <path d=\"M120-120v-720h720v720H120Zm60-500h600v-160H180v160Zm220 220h160v-160H400v160Zm0 220h160v-160H400v160ZM180-400h160v-160H180v160Zm440 0h160v-160H620v160ZM180-180h160v-160H180v160Zm440 0h160v-160H620v160Z\"/>\n",
              "  </svg>\n",
              "    </button>\n",
              "\n",
              "  <style>\n",
              "    .colab-df-container {\n",
              "      display:flex;\n",
              "      gap: 12px;\n",
              "    }\n",
              "\n",
              "    .colab-df-convert {\n",
              "      background-color: #E8F0FE;\n",
              "      border: none;\n",
              "      border-radius: 50%;\n",
              "      cursor: pointer;\n",
              "      display: none;\n",
              "      fill: #1967D2;\n",
              "      height: 32px;\n",
              "      padding: 0 0 0 0;\n",
              "      width: 32px;\n",
              "    }\n",
              "\n",
              "    .colab-df-convert:hover {\n",
              "      background-color: #E2EBFA;\n",
              "      box-shadow: 0px 1px 2px rgba(60, 64, 67, 0.3), 0px 1px 3px 1px rgba(60, 64, 67, 0.15);\n",
              "      fill: #174EA6;\n",
              "    }\n",
              "\n",
              "    .colab-df-buttons div {\n",
              "      margin-bottom: 4px;\n",
              "    }\n",
              "\n",
              "    [theme=dark] .colab-df-convert {\n",
              "      background-color: #3B4455;\n",
              "      fill: #D2E3FC;\n",
              "    }\n",
              "\n",
              "    [theme=dark] .colab-df-convert:hover {\n",
              "      background-color: #434B5C;\n",
              "      box-shadow: 0px 1px 3px 1px rgba(0, 0, 0, 0.15);\n",
              "      filter: drop-shadow(0px 1px 2px rgba(0, 0, 0, 0.3));\n",
              "      fill: #FFFFFF;\n",
              "    }\n",
              "  </style>\n",
              "\n",
              "    <script>\n",
              "      const buttonEl =\n",
              "        document.querySelector('#df-c3bac021-1465-41e0-bed9-a6dc3221f7ec button.colab-df-convert');\n",
              "      buttonEl.style.display =\n",
              "        google.colab.kernel.accessAllowed ? 'block' : 'none';\n",
              "\n",
              "      async function convertToInteractive(key) {\n",
              "        const element = document.querySelector('#df-c3bac021-1465-41e0-bed9-a6dc3221f7ec');\n",
              "        const dataTable =\n",
              "          await google.colab.kernel.invokeFunction('convertToInteractive',\n",
              "                                                    [key], {});\n",
              "        if (!dataTable) return;\n",
              "\n",
              "        const docLinkHtml = 'Like what you see? Visit the ' +\n",
              "          '<a target=\"_blank\" href=https://colab.research.google.com/notebooks/data_table.ipynb>data table notebook</a>'\n",
              "          + ' to learn more about interactive tables.';\n",
              "        element.innerHTML = '';\n",
              "        dataTable['output_type'] = 'display_data';\n",
              "        await google.colab.output.renderOutput(dataTable, element);\n",
              "        const docLink = document.createElement('div');\n",
              "        docLink.innerHTML = docLinkHtml;\n",
              "        element.appendChild(docLink);\n",
              "      }\n",
              "    </script>\n",
              "  </div>\n",
              "\n",
              "\n",
              "<div id=\"df-c09f8d7f-2d97-4ba4-a7aa-560e54cd79a8\">\n",
              "  <button class=\"colab-df-quickchart\" onclick=\"quickchart('df-c09f8d7f-2d97-4ba4-a7aa-560e54cd79a8')\"\n",
              "            title=\"Suggest charts\"\n",
              "            style=\"display:none;\">\n",
              "\n",
              "<svg xmlns=\"http://www.w3.org/2000/svg\" height=\"24px\"viewBox=\"0 0 24 24\"\n",
              "     width=\"24px\">\n",
              "    <g>\n",
              "        <path d=\"M19 3H5c-1.1 0-2 .9-2 2v14c0 1.1.9 2 2 2h14c1.1 0 2-.9 2-2V5c0-1.1-.9-2-2-2zM9 17H7v-7h2v7zm4 0h-2V7h2v10zm4 0h-2v-4h2v4z\"/>\n",
              "    </g>\n",
              "</svg>\n",
              "  </button>\n",
              "\n",
              "<style>\n",
              "  .colab-df-quickchart {\n",
              "      --bg-color: #E8F0FE;\n",
              "      --fill-color: #1967D2;\n",
              "      --hover-bg-color: #E2EBFA;\n",
              "      --hover-fill-color: #174EA6;\n",
              "      --disabled-fill-color: #AAA;\n",
              "      --disabled-bg-color: #DDD;\n",
              "  }\n",
              "\n",
              "  [theme=dark] .colab-df-quickchart {\n",
              "      --bg-color: #3B4455;\n",
              "      --fill-color: #D2E3FC;\n",
              "      --hover-bg-color: #434B5C;\n",
              "      --hover-fill-color: #FFFFFF;\n",
              "      --disabled-bg-color: #3B4455;\n",
              "      --disabled-fill-color: #666;\n",
              "  }\n",
              "\n",
              "  .colab-df-quickchart {\n",
              "    background-color: var(--bg-color);\n",
              "    border: none;\n",
              "    border-radius: 50%;\n",
              "    cursor: pointer;\n",
              "    display: none;\n",
              "    fill: var(--fill-color);\n",
              "    height: 32px;\n",
              "    padding: 0;\n",
              "    width: 32px;\n",
              "  }\n",
              "\n",
              "  .colab-df-quickchart:hover {\n",
              "    background-color: var(--hover-bg-color);\n",
              "    box-shadow: 0 1px 2px rgba(60, 64, 67, 0.3), 0 1px 3px 1px rgba(60, 64, 67, 0.15);\n",
              "    fill: var(--button-hover-fill-color);\n",
              "  }\n",
              "\n",
              "  .colab-df-quickchart-complete:disabled,\n",
              "  .colab-df-quickchart-complete:disabled:hover {\n",
              "    background-color: var(--disabled-bg-color);\n",
              "    fill: var(--disabled-fill-color);\n",
              "    box-shadow: none;\n",
              "  }\n",
              "\n",
              "  .colab-df-spinner {\n",
              "    border: 2px solid var(--fill-color);\n",
              "    border-color: transparent;\n",
              "    border-bottom-color: var(--fill-color);\n",
              "    animation:\n",
              "      spin 1s steps(1) infinite;\n",
              "  }\n",
              "\n",
              "  @keyframes spin {\n",
              "    0% {\n",
              "      border-color: transparent;\n",
              "      border-bottom-color: var(--fill-color);\n",
              "      border-left-color: var(--fill-color);\n",
              "    }\n",
              "    20% {\n",
              "      border-color: transparent;\n",
              "      border-left-color: var(--fill-color);\n",
              "      border-top-color: var(--fill-color);\n",
              "    }\n",
              "    30% {\n",
              "      border-color: transparent;\n",
              "      border-left-color: var(--fill-color);\n",
              "      border-top-color: var(--fill-color);\n",
              "      border-right-color: var(--fill-color);\n",
              "    }\n",
              "    40% {\n",
              "      border-color: transparent;\n",
              "      border-right-color: var(--fill-color);\n",
              "      border-top-color: var(--fill-color);\n",
              "    }\n",
              "    60% {\n",
              "      border-color: transparent;\n",
              "      border-right-color: var(--fill-color);\n",
              "    }\n",
              "    80% {\n",
              "      border-color: transparent;\n",
              "      border-right-color: var(--fill-color);\n",
              "      border-bottom-color: var(--fill-color);\n",
              "    }\n",
              "    90% {\n",
              "      border-color: transparent;\n",
              "      border-bottom-color: var(--fill-color);\n",
              "    }\n",
              "  }\n",
              "</style>\n",
              "\n",
              "  <script>\n",
              "    async function quickchart(key) {\n",
              "      const quickchartButtonEl =\n",
              "        document.querySelector('#' + key + ' button');\n",
              "      quickchartButtonEl.disabled = true;  // To prevent multiple clicks.\n",
              "      quickchartButtonEl.classList.add('colab-df-spinner');\n",
              "      try {\n",
              "        const charts = await google.colab.kernel.invokeFunction(\n",
              "            'suggestCharts', [key], {});\n",
              "      } catch (error) {\n",
              "        console.error('Error during call to suggestCharts:', error);\n",
              "      }\n",
              "      quickchartButtonEl.classList.remove('colab-df-spinner');\n",
              "      quickchartButtonEl.classList.add('colab-df-quickchart-complete');\n",
              "    }\n",
              "    (() => {\n",
              "      let quickchartButtonEl =\n",
              "        document.querySelector('#df-c09f8d7f-2d97-4ba4-a7aa-560e54cd79a8 button');\n",
              "      quickchartButtonEl.style.display =\n",
              "        google.colab.kernel.accessAllowed ? 'block' : 'none';\n",
              "    })();\n",
              "  </script>\n",
              "</div>\n",
              "\n",
              "    </div>\n",
              "  </div>\n"
            ],
            "application/vnd.google.colaboratory.intrinsic+json": {
              "type": "dataframe",
              "variable_name": "mplayers"
            }
          },
          "metadata": {},
          "execution_count": 6
        }
      ]
    },
    {
      "cell_type": "markdown",
      "source": [
        "**Data preprocessing**"
      ],
      "metadata": {
        "id": "qLRsZrK1afU-"
      }
    },
    {
      "cell_type": "code",
      "source": [
        "features_to_select = ['mentality_composure', 'attacking_volleys', 'goalkeeping_reflexes', 'goalkeeping_kicking',\n",
        "                      'attacking_short_passing', 'dribbling', 'power_stamina', 'defending_standing_tackle',\n",
        "                      'goalkeeping_positioning', 'movement_reactions', 'attacking_heading_accuracy',\n",
        "                      'attacking_crossing', 'movement_sprint_speed', 'physic', 'goalkeeping_diving',\n",
        "                      'defending_sliding_tackle', 'attacking_finishing', 'defending_marking_awareness',\n",
        "                      'skill_ball_control', 'power_shot_power', 'potential', 'goalkeeping_handling',\n",
        "                      'movement_balance', 'mentality_penalties', 'mentality_positioning', 'shooting', 'skill_fk_accuracy',\n",
        "                      'mentality_aggression', 'age', 'power_strength', 'skill_curve',\n",
        "                      'defending', 'movement_agility', 'height_cm', 'mentality_vision', 'skill_long_passing',\n",
        "                      'goalkeeping_speed', 'mentality_interceptions', 'weight_kg', 'movement_acceleration', 'overall',\n",
        "                      'skill_dribbling', 'pace', 'passing', 'power_long_shots']\n",
        "\n",
        "corr_matrix = mplayers[features_to_select].corr()\n",
        "corr_matrix['overall'].sort_values(ascending=False)"
      ],
      "metadata": {
        "colab": {
          "base_uri": "https://localhost:8080/"
        },
        "id": "rgwXbZzBVNsn",
        "outputId": "ac50aaa8-3296-41b3-cfda-54a56e561948"
      },
      "execution_count": 7,
      "outputs": [
        {
          "output_type": "execute_result",
          "data": {
            "text/plain": [
              "overall                        1.000000\n",
              "movement_reactions             0.845753\n",
              "potential                      0.695362\n",
              "mentality_composure            0.683307\n",
              "passing                        0.681114\n",
              "dribbling                      0.606575\n",
              "physic                         0.513279\n",
              "attacking_short_passing        0.499757\n",
              "mentality_vision               0.493282\n",
              "skill_long_passing             0.483808\n",
              "shooting                       0.482498\n",
              "power_shot_power               0.480297\n",
              "age                            0.458390\n",
              "skill_ball_control             0.457011\n",
              "skill_curve                    0.415863\n",
              "power_long_shots               0.409086\n",
              "mentality_aggression           0.398310\n",
              "attacking_crossing             0.396833\n",
              "skill_fk_accuracy              0.387269\n",
              "goalkeeping_speed              0.385093\n",
              "attacking_volleys              0.377048\n",
              "skill_dribbling                0.369827\n",
              "power_stamina                  0.360025\n",
              "power_strength                 0.350786\n",
              "mentality_positioning          0.350178\n",
              "attacking_heading_accuracy     0.340029\n",
              "mentality_penalties            0.334488\n",
              "attacking_finishing            0.326376\n",
              "defending                      0.325151\n",
              "mentality_interceptions        0.314282\n",
              "power_jumping                  0.275578\n",
              "defending_marking_awareness    0.274173\n",
              "movement_agility               0.263671\n",
              "defending_standing_tackle      0.250624\n",
              "defending_sliding_tackle       0.220398\n",
              "movement_sprint_speed          0.208990\n",
              "movement_acceleration          0.194625\n",
              "pace                           0.187184\n",
              "weight_kg                      0.140015\n",
              "movement_balance               0.099129\n",
              "height_cm                      0.044415\n",
              "goalkeeping_positioning       -0.004731\n",
              "goalkeeping_handling          -0.010862\n",
              "goalkeeping_reflexes          -0.011783\n",
              "goalkeeping_diving            -0.013603\n",
              "goalkeeping_kicking           -0.015521\n",
              "Name: overall, dtype: float64"
            ]
          },
          "metadata": {},
          "execution_count": 7
        }
      ]
    },
    {
      "cell_type": "code",
      "source": [
        "selected_cols = ['physic', 'goalkeeping_reflexes', 'goalkeeping_positioning', 'potential', 'shooting',\n",
        "                 'goalkeeping_speed', 'attacking_volleys', 'mentality_interceptions', 'goalkeeping_handling',\n",
        "                 'attacking_short_passing', 'mentality_vision', 'mentality_positioning', 'movement_reactions',\n",
        "                 'goalkeeping_kicking', 'skill_fk_accuracy', 'mentality_composure', 'mentality_penalties',\n",
        "                 'defending', 'skill_long_passing', 'attacking_crossing', 'mentality_aggression', 'goalkeeping_diving',\n",
        "                 'age', 'power_long_shots', 'skill_curve', 'dribbling', 'attacking_finishing', 'skill_dribbling',\n",
        "                 'movement_agility', 'power_shot_power', 'skill_ball_control', 'passing']"
      ],
      "metadata": {
        "id": "EBx-7HMVgPcn"
      },
      "execution_count": 8,
      "outputs": []
    },
    {
      "cell_type": "code",
      "source": [
        "mplayers = pd.read_csv('/content/drive/My Drive/players/male_players (legacy).csv', usecols = selected_cols)\n",
        "mplayers.info()"
      ],
      "metadata": {
        "colab": {
          "base_uri": "https://localhost:8080/"
        },
        "id": "8YhzK68agRzq",
        "outputId": "1b8eb8de-1c39-4534-9aa0-ebccdf7df784"
      },
      "execution_count": 9,
      "outputs": [
        {
          "output_type": "stream",
          "name": "stdout",
          "text": [
            "<class 'pandas.core.frame.DataFrame'>\n",
            "RangeIndex: 161583 entries, 0 to 161582\n",
            "Data columns (total 32 columns):\n",
            " #   Column                   Non-Null Count   Dtype  \n",
            "---  ------                   --------------   -----  \n",
            " 0   overall                  161583 non-null  int64  \n",
            " 1   potential                161583 non-null  int64  \n",
            " 2   age                      161583 non-null  int64  \n",
            " 3   shooting                 143614 non-null  float64\n",
            " 4   passing                  143614 non-null  float64\n",
            " 5   dribbling                143614 non-null  float64\n",
            " 6   defending                143614 non-null  float64\n",
            " 7   physic                   143614 non-null  float64\n",
            " 8   attacking_crossing       161583 non-null  int64  \n",
            " 9   attacking_finishing      161583 non-null  int64  \n",
            " 10  attacking_short_passing  161583 non-null  int64  \n",
            " 11  attacking_volleys        161583 non-null  int64  \n",
            " 12  skill_dribbling          161583 non-null  int64  \n",
            " 13  skill_curve              161583 non-null  int64  \n",
            " 14  skill_fk_accuracy        161583 non-null  int64  \n",
            " 15  skill_long_passing       161583 non-null  int64  \n",
            " 16  skill_ball_control       161583 non-null  int64  \n",
            " 17  movement_reactions       161583 non-null  int64  \n",
            " 18  power_shot_power         161583 non-null  int64  \n",
            " 19  power_long_shots         161583 non-null  int64  \n",
            " 20  mentality_aggression     161583 non-null  int64  \n",
            " 21  mentality_interceptions  161583 non-null  int64  \n",
            " 22  mentality_positioning    161583 non-null  int64  \n",
            " 23  mentality_vision         161583 non-null  int64  \n",
            " 24  mentality_penalties      161583 non-null  int64  \n",
            " 25  mentality_composure      128722 non-null  float64\n",
            " 26  goalkeeping_diving       161583 non-null  int64  \n",
            " 27  goalkeeping_handling     161583 non-null  int64  \n",
            " 28  goalkeeping_kicking      161583 non-null  int64  \n",
            " 29  goalkeeping_positioning  161583 non-null  int64  \n",
            " 30  goalkeeping_reflexes     161583 non-null  int64  \n",
            " 31  goalkeeping_speed        17969 non-null   float64\n",
            "dtypes: float64(7), int64(25)\n",
            "memory usage: 39.4 MB\n"
          ]
        }
      ]
    },
    {
      "cell_type": "code",
      "source": [
        "mplayers.fillna(0, inplace=True)"
      ],
      "metadata": {
        "id": "YGe0XOZbk71l"
      },
      "execution_count": 11,
      "outputs": []
    },
    {
      "cell_type": "markdown",
      "source": [
        "Feature Engineering"
      ],
      "metadata": {
        "id": "rj0e01ABlzjF"
      }
    },
    {
      "cell_type": "code",
      "source": [
        "mplayers= mplayers.astype(int)\n",
        "catching = ['goalkeeping_diving', 'goalkeeping_handling', 'goalkeeping_kicking',\n",
        "                          'goalkeeping_positioning', 'goalkeeping_reflexes', 'goalkeeping_speed']\n",
        "imputer = SimpleImputer(strategy='mean')\n",
        "mplayers[catching] = imputer.fit_transform(mplayers[catching])\n",
        "mplayers['catching'] = mplayers[catching].mean(axis=1)\n",
        "mplayers.drop(columns=catching, inplace=True)\n",
        "\n",
        "\n",
        "mentality = ['mentality_interceptions', 'mentality_composure', 'mentality_positioning',\n",
        "                        'mentality_aggression',  'mentality_penalties', 'mentality_vision']\n",
        "imputer = SimpleImputer(strategy='mean')\n",
        "mplayers[mentality] = imputer.fit_transform(mplayers[mentality])\n",
        "mplayers['mentality'] = mplayers[mentality].mean(axis=1)\n",
        "mplayers.drop(columns=mentality, inplace=True)\n",
        "\n",
        "\n",
        "ballskills = ['skill_dribbling', 'skill_long_passing', 'skill_curve', 'skill_fk_accuracy','skill_ball_control']\n",
        "mplayers['ballskills'] = mplayers[ballskills].mean(axis=1)\n",
        "mplayers.drop(columns=ballskills, inplace=True)\n",
        "\n",
        "mplayers.info()"
      ],
      "metadata": {
        "colab": {
          "base_uri": "https://localhost:8080/"
        },
        "id": "pcaTY8-Vl7WI",
        "outputId": "b87aeaa7-eb05-45fc-b0a7-87e8a85ad575"
      },
      "execution_count": 12,
      "outputs": [
        {
          "output_type": "stream",
          "name": "stdout",
          "text": [
            "<class 'pandas.core.frame.DataFrame'>\n",
            "RangeIndex: 161583 entries, 0 to 161582\n",
            "Data columns (total 18 columns):\n",
            " #   Column                   Non-Null Count   Dtype  \n",
            "---  ------                   --------------   -----  \n",
            " 0   overall                  161583 non-null  int64  \n",
            " 1   potential                161583 non-null  int64  \n",
            " 2   age                      161583 non-null  int64  \n",
            " 3   shooting                 161583 non-null  int64  \n",
            " 4   passing                  161583 non-null  int64  \n",
            " 5   dribbling                161583 non-null  int64  \n",
            " 6   defending                161583 non-null  int64  \n",
            " 7   physic                   161583 non-null  int64  \n",
            " 8   attacking_crossing       161583 non-null  int64  \n",
            " 9   attacking_finishing      161583 non-null  int64  \n",
            " 10  attacking_short_passing  161583 non-null  int64  \n",
            " 11  attacking_volleys        161583 non-null  int64  \n",
            " 12  movement_reactions       161583 non-null  int64  \n",
            " 13  power_shot_power         161583 non-null  int64  \n",
            " 14  power_long_shots         161583 non-null  int64  \n",
            " 15  catching                 161583 non-null  float64\n",
            " 16  mentality                161583 non-null  float64\n",
            " 17  ballskills               161583 non-null  float64\n",
            "dtypes: float64(3), int64(15)\n",
            "memory usage: 22.2 MB\n"
          ]
        }
      ]
    },
    {
      "cell_type": "code",
      "source": [
        "shooting_cols = ['shooting', 'power_long_shots', 'power_shot_power', 'attacking_finishing', 'attacking_volleys']\n",
        "mplayers['shooting_avg'] = mplayers[shooting_cols].mean(axis=1)\n",
        "mplayers.drop(columns=shooting_cols, inplace=True)\n",
        "mplayers.rename(columns={'shooting_avg': 'shooting'}, inplace=True)\n",
        "\n",
        "passing_cols = ['passing', 'attacking_crossing', 'attacking_short_passing', 'movement_reactions']\n",
        "mplayers['passing_avg'] = mplayers[passing_cols].mean(axis=1)\n",
        "mplayers.drop(columns=passing_cols, inplace=True)\n",
        "mplayers.rename(columns={'passing_avg': 'passing'}, inplace=True)\n",
        "\n",
        "mplayers.info()"
      ],
      "metadata": {
        "colab": {
          "base_uri": "https://localhost:8080/"
        },
        "id": "8VnSTbVql-Jw",
        "outputId": "325a4ac5-0d4c-41fd-89c5-dfced58bb363"
      },
      "execution_count": 13,
      "outputs": [
        {
          "output_type": "stream",
          "name": "stdout",
          "text": [
            "<class 'pandas.core.frame.DataFrame'>\n",
            "RangeIndex: 161583 entries, 0 to 161582\n",
            "Data columns (total 11 columns):\n",
            " #   Column      Non-Null Count   Dtype  \n",
            "---  ------      --------------   -----  \n",
            " 0   overall     161583 non-null  int64  \n",
            " 1   potential   161583 non-null  int64  \n",
            " 2   age         161583 non-null  int64  \n",
            " 3   dribbling   161583 non-null  int64  \n",
            " 4   defending   161583 non-null  int64  \n",
            " 5   physic      161583 non-null  int64  \n",
            " 6   catching    161583 non-null  float64\n",
            " 7   mentality   161583 non-null  float64\n",
            " 8   ballskills  161583 non-null  float64\n",
            " 9   shooting    161583 non-null  float64\n",
            " 10  passing     161583 non-null  float64\n",
            "dtypes: float64(5), int64(6)\n",
            "memory usage: 13.6 MB\n"
          ]
        }
      ]
    },
    {
      "cell_type": "markdown",
      "source": [
        "Training\n"
      ],
      "metadata": {
        "id": "uRvCm3UywVBF"
      }
    },
    {
      "cell_type": "code",
      "source": [
        "y = mplayers['overall']\n",
        "x = mplayers.drop('overall', axis=1)"
      ],
      "metadata": {
        "id": "lYhTh_RxwgA2"
      },
      "execution_count": 14,
      "outputs": []
    },
    {
      "cell_type": "code",
      "source": [
        "sc = StandardScaler()\n",
        "scaled = sc.fit_transform(x)"
      ],
      "metadata": {
        "id": "cVu5iEPlwfnu"
      },
      "execution_count": 15,
      "outputs": []
    },
    {
      "cell_type": "code",
      "source": [
        "x=pd.DataFrame(scaled, columns=x.columns)"
      ],
      "metadata": {
        "id": "IBPikMw4wfkM"
      },
      "execution_count": 16,
      "outputs": []
    },
    {
      "cell_type": "code",
      "source": [
        "xtrain, xtest, Ytrain, Ytest = train_test_split(x, y, test_size= 0.1, random_state=42, stratify=y)"
      ],
      "metadata": {
        "colab": {
          "base_uri": "https://localhost:8080/"
        },
        "id": "Uej6soJAx6zx",
        "outputId": "ae141fd8-7efa-4418-9915-edfa6970d5b9"
      },
      "execution_count": 18,
      "outputs": [
        {
          "output_type": "execute_result",
          "data": {
            "text/plain": [
              "(145424, 10)"
            ]
          },
          "metadata": {},
          "execution_count": 18
        }
      ]
    },
    {
      "cell_type": "code",
      "source": [
        "xtrain.shape"
      ],
      "metadata": {
        "id": "dXkq72ipJBZP"
      },
      "execution_count": null,
      "outputs": []
    },
    {
      "cell_type": "markdown",
      "source": [
        "Training with XGB_REGRESSOR"
      ],
      "metadata": {
        "id": "aMifoDgCzlPd"
      }
    },
    {
      "cell_type": "code",
      "source": [
        "xgb = XGBRegressor()"
      ],
      "metadata": {
        "id": "Q58Iby_Jx6hm"
      },
      "execution_count": 19,
      "outputs": []
    },
    {
      "cell_type": "code",
      "source": [
        "xgb.fit(xtrain, Ytrain)\n",
        "\n",
        "xgb_ypred = xgb.predict(xtest)\n",
        "xgbabsolute_err = mean_absolute_error(xgb_ypred, Ytest)\n",
        "xgbabsolute_err"
      ],
      "metadata": {
        "colab": {
          "base_uri": "https://localhost:8080/"
        },
        "id": "ibwussYM0mp-",
        "outputId": "b5141af8-6bd7-4259-e31e-6b5fc7315be4"
      },
      "execution_count": 20,
      "outputs": [
        {
          "output_type": "execute_result",
          "data": {
            "text/plain": [
              "0.7133499982149134"
            ]
          },
          "metadata": {},
          "execution_count": 20
        }
      ]
    },
    {
      "cell_type": "markdown",
      "source": [
        "Training with RANDOM FOREST REGRESSOR"
      ],
      "metadata": {
        "id": "xwBbIwLz28Df"
      }
    },
    {
      "cell_type": "code",
      "source": [
        "rfg=RandomForestRegressor()"
      ],
      "metadata": {
        "id": "qQ8iPiBp0mkh"
      },
      "execution_count": 21,
      "outputs": []
    },
    {
      "cell_type": "code",
      "source": [
        "rfg.fit(xtrain, Ytrain)\n",
        "rfg_ypred =rfg.predict(xtest)\n",
        "rfg_ypred"
      ],
      "metadata": {
        "colab": {
          "base_uri": "https://localhost:8080/"
        },
        "id": "tbmr7egt31GI",
        "outputId": "7054d92d-03ee-4c41-d353-88b3456ab708"
      },
      "execution_count": 22,
      "outputs": [
        {
          "output_type": "execute_result",
          "data": {
            "text/plain": [
              "array([57.66, 67.  , 66.69, ..., 58.75, 52.83, 74.78])"
            ]
          },
          "metadata": {},
          "execution_count": 22
        }
      ]
    },
    {
      "cell_type": "code",
      "source": [
        "rfgabsolute_err = mean_absolute_error(rfg_ypred,Ytest)\n",
        "rfgabsolute_err"
      ],
      "metadata": {
        "colab": {
          "base_uri": "https://localhost:8080/"
        },
        "id": "Bv7MpmGq31Cu",
        "outputId": "5a28d8a8-bca7-4595-f44f-217b635a3aec"
      },
      "execution_count": 23,
      "outputs": [
        {
          "output_type": "execute_result",
          "data": {
            "text/plain": [
              "0.6551401695649485"
            ]
          },
          "metadata": {},
          "execution_count": 23
        }
      ]
    },
    {
      "cell_type": "markdown",
      "source": [
        "Training with GRADIENT BOOST REGRESSOR"
      ],
      "metadata": {
        "id": "DZZseoX46sNB"
      }
    },
    {
      "cell_type": "code",
      "source": [
        "gbr = GradientBoostingRegressor()"
      ],
      "metadata": {
        "id": "LlIACw0H0miB"
      },
      "execution_count": 24,
      "outputs": []
    },
    {
      "cell_type": "code",
      "source": [
        "gbr.fit(xtrain, Ytrain)\n",
        "gbr_ypred = gbr.predict(xtest)"
      ],
      "metadata": {
        "id": "HeTC2osC4pAP"
      },
      "execution_count": 25,
      "outputs": []
    },
    {
      "cell_type": "code",
      "source": [
        "gbrabsolute_err = mean_absolute_error(gbr_ypred, Ytest)\n",
        "gbrabsolute_err"
      ],
      "metadata": {
        "colab": {
          "base_uri": "https://localhost:8080/"
        },
        "id": "3d44Tq5v5FWV",
        "outputId": "f35a0de6-67b2-4919-dfe2-24e723e5b5d8"
      },
      "execution_count": 26,
      "outputs": [
        {
          "output_type": "execute_result",
          "data": {
            "text/plain": [
              "0.9464909711286751"
            ]
          },
          "metadata": {},
          "execution_count": 26
        }
      ]
    },
    {
      "cell_type": "markdown",
      "source": [
        "Cross-Validation"
      ],
      "metadata": {
        "id": "XwzNNy356-ez"
      }
    },
    {
      "cell_type": "code",
      "source": [
        "# The hyperparameters for Random Forest Regressor and for Gradient Boost Regressor are:\n",
        "\n",
        "parameters_rfg = {\n",
        "    'n_estimators': [10, 15, 20],\n",
        "    'max_depth': [None, 10, 20],\n",
        "    'min_samples_split': [2, 6, 10]\n",
        "}\n",
        "parameters_gbr = {\n",
        "    'n_estimators': [10, 15, 20],\n",
        "    'max_depth': [3, 5, 7],\n",
        "    'learning_rate': [0.1, 0.01, 0.001]\n",
        "}"
      ],
      "metadata": {
        "id": "YQpVc4ch60Y4"
      },
      "execution_count": 27,
      "outputs": []
    },
    {
      "cell_type": "code",
      "source": [
        "rfg_gridsearch = GridSearchCV(estimator = RandomForestRegressor(), param_grid = parameters_rfg, scoring = 'neg_mean_absolute_error', cv=5)\n",
        "rfg_gridsearch.fit(xtrain, Ytrain)\n",
        "best_rfg = rfg_gridsearch.best_estimator_\n",
        "\n",
        "gbr_gridsearch = GridSearchCV(estimator = GradientBoostingRegressor(), param_grid = parameters_gbr, scoring = 'neg_mean_absolute_error', cv=5)\n",
        "gbr_gridsearch.fit(xtrain, Ytrain)\n",
        "best_gbr = gbr_gridsearch.best_estimator_"
      ],
      "metadata": {
        "id": "P4UecZwD95-r"
      },
      "execution_count": 28,
      "outputs": []
    },
    {
      "cell_type": "code",
      "source": [
        "bestrfg_ypred = best_rfg.predict(xtest)\n",
        "best_rfg_abserr = mean_absolute_error(bestrfg_ypred, Ytest)\n",
        "print(\"The mean absolute error for the best Random Forest Model is: \", best_rfg_abserr)\n",
        "\n",
        "bestgbr_ypred = best_gbr.predict(xtest)\n",
        "best_gbr_abserr = mean_absolute_error(bestgbr_ypred, Ytest)\n",
        "print(\"The mean absolute error for the best Gradient Boost Regressor is: \", best_gbr_abserr)"
      ],
      "metadata": {
        "colab": {
          "base_uri": "https://localhost:8080/"
        },
        "id": "_nUX_KCS95oC",
        "outputId": "9cedc501-4f3e-4220-a162-64853feb5d27"
      },
      "execution_count": 30,
      "outputs": [
        {
          "output_type": "stream",
          "name": "stdout",
          "text": [
            "The mean absolute error for the best Random Forest Model is:  0.6710375120967335\n",
            "The mean absolute error for the best Gradient Boost Regressor is:  1.1312012131511435\n"
          ]
        }
      ]
    },
    {
      "cell_type": "markdown",
      "source": [
        "The ENSEMBLE MODEL using the Random Forest Regressor and Gradient Boost Regressor models above"
      ],
      "metadata": {
        "id": "_y1IpUAK-Gep"
      }
    },
    {
      "cell_type": "code",
      "source": [
        "ensemblemodel = VotingRegressor(estimators=[('rfg', rfg), ('gbr', gbr)])\n",
        "\n",
        "ensemblemodel.fit(xtrain, Ytrain)\n",
        "ensemblepredictions = ensemblemodel.predict(xtest)"
      ],
      "metadata": {
        "id": "a8e_0Pv49-Yp"
      },
      "execution_count": 31,
      "outputs": []
    },
    {
      "cell_type": "code",
      "source": [
        "ensemble_abserr = mean_absolute_error(ensemblepredictions, Ytest)\n",
        "ensemblepredictions\n",
        "xtest\n",
        "Ytest\n",
        "\n",
        "print(\"Mean absolute error for Random Forest: \", mean_absolute_error(rfg_ypred, Ytest))\n",
        "print(\"Mean absolute error for Gradient Boost Regressor: \", best_gbr_abserr)\n",
        "print(\"Mean absolute error for Ensemble Model: \", ensemble_abserr)"
      ],
      "metadata": {
        "colab": {
          "base_uri": "https://localhost:8080/"
        },
        "id": "DMq7p4r4EqhM",
        "outputId": "ff52588f-f9c9-42f1-9de1-9e548f91b5b7"
      },
      "execution_count": 33,
      "outputs": [
        {
          "output_type": "stream",
          "name": "stdout",
          "text": [
            "Mean absolute error for Random Forest:  0.6551401695649485\n",
            "Mean absolute error for Gradient Boost Regressor:  1.1312012131511435\n",
            "Mean absolute error for Ensemble Model:  0.7554320600694819\n"
          ]
        }
      ]
    },
    {
      "cell_type": "code",
      "source": [
        "stdeviation = np.std(ensemblepredictions)\n",
        "meanprediction = np.mean(ensemblepredictions)\n",
        "print(\"The standard deviation is:\", stdeviation)\n",
        "print(\"The mean prediction is:\", meanprediction)"
      ],
      "metadata": {
        "id": "CgBAoPSgEqd1"
      },
      "execution_count": 34,
      "outputs": []
    },
    {
      "cell_type": "code",
      "source": [
        "# creation of the confidence level and margin of error\n",
        "conf_level = 0.95\n",
        "z_score = norm.ppf((1 + conf_level)/2)\n",
        "margin_error = z_score *(stdeviation/np.sqrt(len(ensemblepredictions)))\n",
        "\n",
        "ubound = meanprediction + margin_error\n",
        "lbound = meanprediction - margin_error\n",
        "conf_percentage = ((1-2 * (1 - conf_level)) * 100)\n",
        "\n",
        "print(\"The lower bound for the regressors is:\", lbound)\n",
        "print(\"The upper bound for the regressors is:\", ubound)\n",
        "print(\"The margin of error for the regressors:\", margin_error)\n",
        "print(\"The confidence percentage for the regressors is:\", conf_percentage)"
      ],
      "metadata": {
        "colab": {
          "base_uri": "https://localhost:8080/"
        },
        "id": "C6JkJI0LEqM4",
        "outputId": "20dbebde-8ab0-43e5-8f08-b7f3117bdd32"
      },
      "execution_count": 37,
      "outputs": [
        {
          "output_type": "stream",
          "name": "stdout",
          "text": [
            "The lower bound: 65.57527720075282\n",
            "The upper bound: 65.78865538871077\n",
            "The margin of error: 0.10668909397897354\n",
            "The confidence percentage: 89.99999999999999\n"
          ]
        }
      ]
    },
    {
      "cell_type": "markdown",
      "source": [
        "Training with the new Dataset(players22)\n"
      ],
      "metadata": {
        "id": "1-t8UMh2PdU-"
      }
    },
    {
      "cell_type": "code",
      "source": [
        "players2 = pd.read_csv('/content/drive/My Drive/players/players_22-1.csv', usecols =selected_cols)"
      ],
      "metadata": {
        "id": "emsQDA7kPXXG"
      },
      "execution_count": 38,
      "outputs": []
    },
    {
      "cell_type": "code",
      "source": [
        "players2.fillna(0, inplace=True)"
      ],
      "metadata": {
        "id": "EVvRUN3rPXTt"
      },
      "execution_count": 39,
      "outputs": []
    },
    {
      "cell_type": "code",
      "source": [
        "players2= players2.astype(int)\n",
        "\n",
        "catching = ['goalkeeping_diving', 'goalkeeping_handling', 'goalkeeping_kicking',\n",
        "                          'goalkeeping_positioning', 'goalkeeping_reflexes', 'goalkeeping_speed']\n",
        "imputer = SimpleImputer(strategy='mean')\n",
        "players2[catching] = imputer.fit_transform(players2[catching])\n",
        "players2['goalkeeping'] = players2[catching].mean(axis=1)\n",
        "players2.drop(columns=catching, inplace=True)\n",
        "\n",
        "\n",
        "mentality = ['mentality_interceptions', 'mentality_composure', 'mentality_positioning',\n",
        "                        'mentality_aggression',  'mentality_penalties', 'mentality_vision']\n",
        "imputer = SimpleImputer(strategy='mean')\n",
        "players2[mentality] = imputer.fit_transform(players2[mentality])\n",
        "players2['mentality_att'] = players2[mentality].mean(axis=1)\n",
        "players2.drop(columns=mentality, inplace=True)\n",
        "\n",
        "\n",
        "ballskills = ['skill_dribbling', 'skill_long_passing', 'skill_curve', 'skill_fk_accuracy','skill_ball_control']\n",
        "players2['goodballskills'] = players2[ballskills].mean(axis=1)\n",
        "players2.drop(columns=ballskills, inplace=True)\n",
        "\n",
        "shooting_cols = ['shooting', 'power_long_shots', 'power_shot_power', 'attacking_finishing', 'attacking_volleys']\n",
        "players2['shooting_avg2'] = players2[shooting_cols].mean(axis=1)\n",
        "players2.drop(columns=shooting_cols, inplace=True)\n",
        "players2.rename(columns={'shooting_avg2': 'shooting'}, inplace=True)\n",
        "\n",
        "passing_cols = ['passing', 'attacking_crossing', 'attacking_short_passing', 'movement_reactions']\n",
        "players2['passing_avg2'] = players2[passing_cols].mean(axis=1)\n",
        "players2.drop(columns=passing_cols, inplace=True)\n",
        "players2.rename(columns={'passing_avg2': 'passing'}, inplace=True)\n",
        "\n",
        "players2.info()\n"
      ],
      "metadata": {
        "colab": {
          "base_uri": "https://localhost:8080/"
        },
        "id": "59QxImZaPXRP",
        "outputId": "92071fcc-b609-4034-f0ae-49a8897fffe6"
      },
      "execution_count": 40,
      "outputs": [
        {
          "output_type": "stream",
          "name": "stdout",
          "text": [
            "<class 'pandas.core.frame.DataFrame'>\n",
            "RangeIndex: 19239 entries, 0 to 19238\n",
            "Data columns (total 18 columns):\n",
            " #   Column                   Non-Null Count  Dtype  \n",
            "---  ------                   --------------  -----  \n",
            " 0   overall                  19239 non-null  int64  \n",
            " 1   potential                19239 non-null  int64  \n",
            " 2   age                      19239 non-null  int64  \n",
            " 3   shooting                 19239 non-null  int64  \n",
            " 4   passing                  19239 non-null  int64  \n",
            " 5   dribbling                19239 non-null  int64  \n",
            " 6   defending                19239 non-null  int64  \n",
            " 7   physic                   19239 non-null  int64  \n",
            " 8   attacking_crossing       19239 non-null  int64  \n",
            " 9   attacking_finishing      19239 non-null  int64  \n",
            " 10  attacking_short_passing  19239 non-null  int64  \n",
            " 11  attacking_volleys        19239 non-null  int64  \n",
            " 12  movement_reactions       19239 non-null  int64  \n",
            " 13  power_shot_power         19239 non-null  int64  \n",
            " 14  power_long_shots         19239 non-null  int64  \n",
            " 15  goalkeeping              19239 non-null  float64\n",
            " 16  mentality_att            19239 non-null  float64\n",
            " 17  goodballskills           19239 non-null  float64\n",
            "dtypes: float64(3), int64(15)\n",
            "memory usage: 2.6 MB\n"
          ]
        }
      ]
    },
    {
      "cell_type": "code",
      "source": [
        "y1 = players2['overall']\n",
        "x1 = players2.drop('overall', axis=1)\n",
        "x1"
      ],
      "metadata": {
        "colab": {
          "base_uri": "https://localhost:8080/",
          "height": 424
        },
        "id": "NTuoaokaPXLU",
        "outputId": "0d1366c8-3684-43d6-8086-9572a1d23e1d"
      },
      "execution_count": 42,
      "outputs": [
        {
          "output_type": "execute_result",
          "data": {
            "text/plain": [
              "       potential  age  dribbling  defending  physic  goalkeeping  \\\n",
              "0             93   34         95         34      65     9.000000   \n",
              "1             92   32         86         44      82     8.500000   \n",
              "2             91   36         88         34      75     9.666667   \n",
              "3             91   29         94         37      63     9.833333   \n",
              "4             91   30         88         64      78     9.333333   \n",
              "...          ...  ...        ...        ...     ...          ...   \n",
              "19234         52   22         48         42      49     8.166667   \n",
              "19235         59   19         46         41      51     7.833333   \n",
              "19236         55   21         49         41      52     6.166667   \n",
              "19237         60   19         48         15      42     8.833333   \n",
              "19238         60   19         48         36      48     9.500000   \n",
              "\n",
              "       mentality_att  goodballskills  shooting  passing  \n",
              "0          73.833333            94.0      91.0    90.25  \n",
              "1          80.666667            81.4      90.6    82.00  \n",
              "2          74.333333            83.6      92.4    85.25  \n",
              "3          77.000000            89.2      82.6    86.50  \n",
              "4          82.666667            88.0      86.4    93.00  \n",
              "...              ...             ...       ...      ...  \n",
              "19234      42.333333            42.6      34.6    48.75  \n",
              "19235      46.500000            43.4      38.2    51.00  \n",
              "19236      42.500000            43.8      38.0    44.75  \n",
              "19237      38.500000            38.0      43.6    37.75  \n",
              "19238      43.500000            41.0      38.6    47.00  \n",
              "\n",
              "[19239 rows x 10 columns]"
            ],
            "text/html": [
              "\n",
              "  <div id=\"df-fb6cf3d0-d1c4-4b55-80a0-c80b74aef4a6\" class=\"colab-df-container\">\n",
              "    <div>\n",
              "<style scoped>\n",
              "    .dataframe tbody tr th:only-of-type {\n",
              "        vertical-align: middle;\n",
              "    }\n",
              "\n",
              "    .dataframe tbody tr th {\n",
              "        vertical-align: top;\n",
              "    }\n",
              "\n",
              "    .dataframe thead th {\n",
              "        text-align: right;\n",
              "    }\n",
              "</style>\n",
              "<table border=\"1\" class=\"dataframe\">\n",
              "  <thead>\n",
              "    <tr style=\"text-align: right;\">\n",
              "      <th></th>\n",
              "      <th>potential</th>\n",
              "      <th>age</th>\n",
              "      <th>dribbling</th>\n",
              "      <th>defending</th>\n",
              "      <th>physic</th>\n",
              "      <th>goalkeeping</th>\n",
              "      <th>mentality_att</th>\n",
              "      <th>goodballskills</th>\n",
              "      <th>shooting</th>\n",
              "      <th>passing</th>\n",
              "    </tr>\n",
              "  </thead>\n",
              "  <tbody>\n",
              "    <tr>\n",
              "      <th>0</th>\n",
              "      <td>93</td>\n",
              "      <td>34</td>\n",
              "      <td>95</td>\n",
              "      <td>34</td>\n",
              "      <td>65</td>\n",
              "      <td>9.000000</td>\n",
              "      <td>73.833333</td>\n",
              "      <td>94.0</td>\n",
              "      <td>91.0</td>\n",
              "      <td>90.25</td>\n",
              "    </tr>\n",
              "    <tr>\n",
              "      <th>1</th>\n",
              "      <td>92</td>\n",
              "      <td>32</td>\n",
              "      <td>86</td>\n",
              "      <td>44</td>\n",
              "      <td>82</td>\n",
              "      <td>8.500000</td>\n",
              "      <td>80.666667</td>\n",
              "      <td>81.4</td>\n",
              "      <td>90.6</td>\n",
              "      <td>82.00</td>\n",
              "    </tr>\n",
              "    <tr>\n",
              "      <th>2</th>\n",
              "      <td>91</td>\n",
              "      <td>36</td>\n",
              "      <td>88</td>\n",
              "      <td>34</td>\n",
              "      <td>75</td>\n",
              "      <td>9.666667</td>\n",
              "      <td>74.333333</td>\n",
              "      <td>83.6</td>\n",
              "      <td>92.4</td>\n",
              "      <td>85.25</td>\n",
              "    </tr>\n",
              "    <tr>\n",
              "      <th>3</th>\n",
              "      <td>91</td>\n",
              "      <td>29</td>\n",
              "      <td>94</td>\n",
              "      <td>37</td>\n",
              "      <td>63</td>\n",
              "      <td>9.833333</td>\n",
              "      <td>77.000000</td>\n",
              "      <td>89.2</td>\n",
              "      <td>82.6</td>\n",
              "      <td>86.50</td>\n",
              "    </tr>\n",
              "    <tr>\n",
              "      <th>4</th>\n",
              "      <td>91</td>\n",
              "      <td>30</td>\n",
              "      <td>88</td>\n",
              "      <td>64</td>\n",
              "      <td>78</td>\n",
              "      <td>9.333333</td>\n",
              "      <td>82.666667</td>\n",
              "      <td>88.0</td>\n",
              "      <td>86.4</td>\n",
              "      <td>93.00</td>\n",
              "    </tr>\n",
              "    <tr>\n",
              "      <th>...</th>\n",
              "      <td>...</td>\n",
              "      <td>...</td>\n",
              "      <td>...</td>\n",
              "      <td>...</td>\n",
              "      <td>...</td>\n",
              "      <td>...</td>\n",
              "      <td>...</td>\n",
              "      <td>...</td>\n",
              "      <td>...</td>\n",
              "      <td>...</td>\n",
              "    </tr>\n",
              "    <tr>\n",
              "      <th>19234</th>\n",
              "      <td>52</td>\n",
              "      <td>22</td>\n",
              "      <td>48</td>\n",
              "      <td>42</td>\n",
              "      <td>49</td>\n",
              "      <td>8.166667</td>\n",
              "      <td>42.333333</td>\n",
              "      <td>42.6</td>\n",
              "      <td>34.6</td>\n",
              "      <td>48.75</td>\n",
              "    </tr>\n",
              "    <tr>\n",
              "      <th>19235</th>\n",
              "      <td>59</td>\n",
              "      <td>19</td>\n",
              "      <td>46</td>\n",
              "      <td>41</td>\n",
              "      <td>51</td>\n",
              "      <td>7.833333</td>\n",
              "      <td>46.500000</td>\n",
              "      <td>43.4</td>\n",
              "      <td>38.2</td>\n",
              "      <td>51.00</td>\n",
              "    </tr>\n",
              "    <tr>\n",
              "      <th>19236</th>\n",
              "      <td>55</td>\n",
              "      <td>21</td>\n",
              "      <td>49</td>\n",
              "      <td>41</td>\n",
              "      <td>52</td>\n",
              "      <td>6.166667</td>\n",
              "      <td>42.500000</td>\n",
              "      <td>43.8</td>\n",
              "      <td>38.0</td>\n",
              "      <td>44.75</td>\n",
              "    </tr>\n",
              "    <tr>\n",
              "      <th>19237</th>\n",
              "      <td>60</td>\n",
              "      <td>19</td>\n",
              "      <td>48</td>\n",
              "      <td>15</td>\n",
              "      <td>42</td>\n",
              "      <td>8.833333</td>\n",
              "      <td>38.500000</td>\n",
              "      <td>38.0</td>\n",
              "      <td>43.6</td>\n",
              "      <td>37.75</td>\n",
              "    </tr>\n",
              "    <tr>\n",
              "      <th>19238</th>\n",
              "      <td>60</td>\n",
              "      <td>19</td>\n",
              "      <td>48</td>\n",
              "      <td>36</td>\n",
              "      <td>48</td>\n",
              "      <td>9.500000</td>\n",
              "      <td>43.500000</td>\n",
              "      <td>41.0</td>\n",
              "      <td>38.6</td>\n",
              "      <td>47.00</td>\n",
              "    </tr>\n",
              "  </tbody>\n",
              "</table>\n",
              "<p>19239 rows × 10 columns</p>\n",
              "</div>\n",
              "    <div class=\"colab-df-buttons\">\n",
              "\n",
              "  <div class=\"colab-df-container\">\n",
              "    <button class=\"colab-df-convert\" onclick=\"convertToInteractive('df-fb6cf3d0-d1c4-4b55-80a0-c80b74aef4a6')\"\n",
              "            title=\"Convert this dataframe to an interactive table.\"\n",
              "            style=\"display:none;\">\n",
              "\n",
              "  <svg xmlns=\"http://www.w3.org/2000/svg\" height=\"24px\" viewBox=\"0 -960 960 960\">\n",
              "    <path d=\"M120-120v-720h720v720H120Zm60-500h600v-160H180v160Zm220 220h160v-160H400v160Zm0 220h160v-160H400v160ZM180-400h160v-160H180v160Zm440 0h160v-160H620v160ZM180-180h160v-160H180v160Zm440 0h160v-160H620v160Z\"/>\n",
              "  </svg>\n",
              "    </button>\n",
              "\n",
              "  <style>\n",
              "    .colab-df-container {\n",
              "      display:flex;\n",
              "      gap: 12px;\n",
              "    }\n",
              "\n",
              "    .colab-df-convert {\n",
              "      background-color: #E8F0FE;\n",
              "      border: none;\n",
              "      border-radius: 50%;\n",
              "      cursor: pointer;\n",
              "      display: none;\n",
              "      fill: #1967D2;\n",
              "      height: 32px;\n",
              "      padding: 0 0 0 0;\n",
              "      width: 32px;\n",
              "    }\n",
              "\n",
              "    .colab-df-convert:hover {\n",
              "      background-color: #E2EBFA;\n",
              "      box-shadow: 0px 1px 2px rgba(60, 64, 67, 0.3), 0px 1px 3px 1px rgba(60, 64, 67, 0.15);\n",
              "      fill: #174EA6;\n",
              "    }\n",
              "\n",
              "    .colab-df-buttons div {\n",
              "      margin-bottom: 4px;\n",
              "    }\n",
              "\n",
              "    [theme=dark] .colab-df-convert {\n",
              "      background-color: #3B4455;\n",
              "      fill: #D2E3FC;\n",
              "    }\n",
              "\n",
              "    [theme=dark] .colab-df-convert:hover {\n",
              "      background-color: #434B5C;\n",
              "      box-shadow: 0px 1px 3px 1px rgba(0, 0, 0, 0.15);\n",
              "      filter: drop-shadow(0px 1px 2px rgba(0, 0, 0, 0.3));\n",
              "      fill: #FFFFFF;\n",
              "    }\n",
              "  </style>\n",
              "\n",
              "    <script>\n",
              "      const buttonEl =\n",
              "        document.querySelector('#df-fb6cf3d0-d1c4-4b55-80a0-c80b74aef4a6 button.colab-df-convert');\n",
              "      buttonEl.style.display =\n",
              "        google.colab.kernel.accessAllowed ? 'block' : 'none';\n",
              "\n",
              "      async function convertToInteractive(key) {\n",
              "        const element = document.querySelector('#df-fb6cf3d0-d1c4-4b55-80a0-c80b74aef4a6');\n",
              "        const dataTable =\n",
              "          await google.colab.kernel.invokeFunction('convertToInteractive',\n",
              "                                                    [key], {});\n",
              "        if (!dataTable) return;\n",
              "\n",
              "        const docLinkHtml = 'Like what you see? Visit the ' +\n",
              "          '<a target=\"_blank\" href=https://colab.research.google.com/notebooks/data_table.ipynb>data table notebook</a>'\n",
              "          + ' to learn more about interactive tables.';\n",
              "        element.innerHTML = '';\n",
              "        dataTable['output_type'] = 'display_data';\n",
              "        await google.colab.output.renderOutput(dataTable, element);\n",
              "        const docLink = document.createElement('div');\n",
              "        docLink.innerHTML = docLinkHtml;\n",
              "        element.appendChild(docLink);\n",
              "      }\n",
              "    </script>\n",
              "  </div>\n",
              "\n",
              "\n",
              "<div id=\"df-000815fa-1055-45ca-97a9-2ca719b0f3d2\">\n",
              "  <button class=\"colab-df-quickchart\" onclick=\"quickchart('df-000815fa-1055-45ca-97a9-2ca719b0f3d2')\"\n",
              "            title=\"Suggest charts\"\n",
              "            style=\"display:none;\">\n",
              "\n",
              "<svg xmlns=\"http://www.w3.org/2000/svg\" height=\"24px\"viewBox=\"0 0 24 24\"\n",
              "     width=\"24px\">\n",
              "    <g>\n",
              "        <path d=\"M19 3H5c-1.1 0-2 .9-2 2v14c0 1.1.9 2 2 2h14c1.1 0 2-.9 2-2V5c0-1.1-.9-2-2-2zM9 17H7v-7h2v7zm4 0h-2V7h2v10zm4 0h-2v-4h2v4z\"/>\n",
              "    </g>\n",
              "</svg>\n",
              "  </button>\n",
              "\n",
              "<style>\n",
              "  .colab-df-quickchart {\n",
              "      --bg-color: #E8F0FE;\n",
              "      --fill-color: #1967D2;\n",
              "      --hover-bg-color: #E2EBFA;\n",
              "      --hover-fill-color: #174EA6;\n",
              "      --disabled-fill-color: #AAA;\n",
              "      --disabled-bg-color: #DDD;\n",
              "  }\n",
              "\n",
              "  [theme=dark] .colab-df-quickchart {\n",
              "      --bg-color: #3B4455;\n",
              "      --fill-color: #D2E3FC;\n",
              "      --hover-bg-color: #434B5C;\n",
              "      --hover-fill-color: #FFFFFF;\n",
              "      --disabled-bg-color: #3B4455;\n",
              "      --disabled-fill-color: #666;\n",
              "  }\n",
              "\n",
              "  .colab-df-quickchart {\n",
              "    background-color: var(--bg-color);\n",
              "    border: none;\n",
              "    border-radius: 50%;\n",
              "    cursor: pointer;\n",
              "    display: none;\n",
              "    fill: var(--fill-color);\n",
              "    height: 32px;\n",
              "    padding: 0;\n",
              "    width: 32px;\n",
              "  }\n",
              "\n",
              "  .colab-df-quickchart:hover {\n",
              "    background-color: var(--hover-bg-color);\n",
              "    box-shadow: 0 1px 2px rgba(60, 64, 67, 0.3), 0 1px 3px 1px rgba(60, 64, 67, 0.15);\n",
              "    fill: var(--button-hover-fill-color);\n",
              "  }\n",
              "\n",
              "  .colab-df-quickchart-complete:disabled,\n",
              "  .colab-df-quickchart-complete:disabled:hover {\n",
              "    background-color: var(--disabled-bg-color);\n",
              "    fill: var(--disabled-fill-color);\n",
              "    box-shadow: none;\n",
              "  }\n",
              "\n",
              "  .colab-df-spinner {\n",
              "    border: 2px solid var(--fill-color);\n",
              "    border-color: transparent;\n",
              "    border-bottom-color: var(--fill-color);\n",
              "    animation:\n",
              "      spin 1s steps(1) infinite;\n",
              "  }\n",
              "\n",
              "  @keyframes spin {\n",
              "    0% {\n",
              "      border-color: transparent;\n",
              "      border-bottom-color: var(--fill-color);\n",
              "      border-left-color: var(--fill-color);\n",
              "    }\n",
              "    20% {\n",
              "      border-color: transparent;\n",
              "      border-left-color: var(--fill-color);\n",
              "      border-top-color: var(--fill-color);\n",
              "    }\n",
              "    30% {\n",
              "      border-color: transparent;\n",
              "      border-left-color: var(--fill-color);\n",
              "      border-top-color: var(--fill-color);\n",
              "      border-right-color: var(--fill-color);\n",
              "    }\n",
              "    40% {\n",
              "      border-color: transparent;\n",
              "      border-right-color: var(--fill-color);\n",
              "      border-top-color: var(--fill-color);\n",
              "    }\n",
              "    60% {\n",
              "      border-color: transparent;\n",
              "      border-right-color: var(--fill-color);\n",
              "    }\n",
              "    80% {\n",
              "      border-color: transparent;\n",
              "      border-right-color: var(--fill-color);\n",
              "      border-bottom-color: var(--fill-color);\n",
              "    }\n",
              "    90% {\n",
              "      border-color: transparent;\n",
              "      border-bottom-color: var(--fill-color);\n",
              "    }\n",
              "  }\n",
              "</style>\n",
              "\n",
              "  <script>\n",
              "    async function quickchart(key) {\n",
              "      const quickchartButtonEl =\n",
              "        document.querySelector('#' + key + ' button');\n",
              "      quickchartButtonEl.disabled = true;  // To prevent multiple clicks.\n",
              "      quickchartButtonEl.classList.add('colab-df-spinner');\n",
              "      try {\n",
              "        const charts = await google.colab.kernel.invokeFunction(\n",
              "            'suggestCharts', [key], {});\n",
              "      } catch (error) {\n",
              "        console.error('Error during call to suggestCharts:', error);\n",
              "      }\n",
              "      quickchartButtonEl.classList.remove('colab-df-spinner');\n",
              "      quickchartButtonEl.classList.add('colab-df-quickchart-complete');\n",
              "    }\n",
              "    (() => {\n",
              "      let quickchartButtonEl =\n",
              "        document.querySelector('#df-000815fa-1055-45ca-97a9-2ca719b0f3d2 button');\n",
              "      quickchartButtonEl.style.display =\n",
              "        google.colab.kernel.accessAllowed ? 'block' : 'none';\n",
              "    })();\n",
              "  </script>\n",
              "</div>\n",
              "\n",
              "  <div id=\"id_f1f8b13c-4f8a-4d3e-b1fa-ccc7db7762ea\">\n",
              "    <style>\n",
              "      .colab-df-generate {\n",
              "        background-color: #E8F0FE;\n",
              "        border: none;\n",
              "        border-radius: 50%;\n",
              "        cursor: pointer;\n",
              "        display: none;\n",
              "        fill: #1967D2;\n",
              "        height: 32px;\n",
              "        padding: 0 0 0 0;\n",
              "        width: 32px;\n",
              "      }\n",
              "\n",
              "      .colab-df-generate:hover {\n",
              "        background-color: #E2EBFA;\n",
              "        box-shadow: 0px 1px 2px rgba(60, 64, 67, 0.3), 0px 1px 3px 1px rgba(60, 64, 67, 0.15);\n",
              "        fill: #174EA6;\n",
              "      }\n",
              "\n",
              "      [theme=dark] .colab-df-generate {\n",
              "        background-color: #3B4455;\n",
              "        fill: #D2E3FC;\n",
              "      }\n",
              "\n",
              "      [theme=dark] .colab-df-generate:hover {\n",
              "        background-color: #434B5C;\n",
              "        box-shadow: 0px 1px 3px 1px rgba(0, 0, 0, 0.15);\n",
              "        filter: drop-shadow(0px 1px 2px rgba(0, 0, 0, 0.3));\n",
              "        fill: #FFFFFF;\n",
              "      }\n",
              "    </style>\n",
              "    <button class=\"colab-df-generate\" onclick=\"generateWithVariable('x1')\"\n",
              "            title=\"Generate code using this dataframe.\"\n",
              "            style=\"display:none;\">\n",
              "\n",
              "  <svg xmlns=\"http://www.w3.org/2000/svg\" height=\"24px\"viewBox=\"0 0 24 24\"\n",
              "       width=\"24px\">\n",
              "    <path d=\"M7,19H8.4L18.45,9,17,7.55,7,17.6ZM5,21V16.75L18.45,3.32a2,2,0,0,1,2.83,0l1.4,1.43a1.91,1.91,0,0,1,.58,1.4,1.91,1.91,0,0,1-.58,1.4L9.25,21ZM18.45,9,17,7.55Zm-12,3A5.31,5.31,0,0,0,4.9,8.1,5.31,5.31,0,0,0,1,6.5,5.31,5.31,0,0,0,4.9,4.9,5.31,5.31,0,0,0,6.5,1,5.31,5.31,0,0,0,8.1,4.9,5.31,5.31,0,0,0,12,6.5,5.46,5.46,0,0,0,6.5,12Z\"/>\n",
              "  </svg>\n",
              "    </button>\n",
              "    <script>\n",
              "      (() => {\n",
              "      const buttonEl =\n",
              "        document.querySelector('#id_f1f8b13c-4f8a-4d3e-b1fa-ccc7db7762ea button.colab-df-generate');\n",
              "      buttonEl.style.display =\n",
              "        google.colab.kernel.accessAllowed ? 'block' : 'none';\n",
              "\n",
              "      buttonEl.onclick = () => {\n",
              "        google.colab.notebook.generateWithVariable('x1');\n",
              "      }\n",
              "      })();\n",
              "    </script>\n",
              "  </div>\n",
              "\n",
              "    </div>\n",
              "  </div>\n"
            ],
            "application/vnd.google.colaboratory.intrinsic+json": {
              "type": "dataframe",
              "variable_name": "x1",
              "summary": "{\n  \"name\": \"x1\",\n  \"rows\": 19239,\n  \"fields\": [\n    {\n      \"column\": \"potential\",\n      \"properties\": {\n        \"dtype\": \"number\",\n        \"std\": 6,\n        \"min\": 49,\n        \"max\": 95,\n        \"num_unique_values\": 46,\n        \"samples\": [\n          55,\n          69,\n          68\n        ],\n        \"semantic_type\": \"\",\n        \"description\": \"\"\n      }\n    },\n    {\n      \"column\": \"age\",\n      \"properties\": {\n        \"dtype\": \"number\",\n        \"std\": 4,\n        \"min\": 16,\n        \"max\": 54,\n        \"num_unique_values\": 29,\n        \"samples\": [\n          42,\n          23,\n          20\n        ],\n        \"semantic_type\": \"\",\n        \"description\": \"\"\n      }\n    },\n    {\n      \"column\": \"dribbling\",\n      \"properties\": {\n        \"dtype\": \"number\",\n        \"std\": 21,\n        \"min\": 0,\n        \"max\": 95,\n        \"num_unique_values\": 69,\n        \"samples\": [\n          69,\n          95,\n          48\n        ],\n        \"semantic_type\": \"\",\n        \"description\": \"\"\n      }\n    },\n    {\n      \"column\": \"defending\",\n      \"properties\": {\n        \"dtype\": \"number\",\n        \"std\": 22,\n        \"min\": 0,\n        \"max\": 91,\n        \"num_unique_values\": 78,\n        \"samples\": [\n          30,\n          34,\n          54\n        ],\n        \"semantic_type\": \"\",\n        \"description\": \"\"\n      }\n    },\n    {\n      \"column\": \"physic\",\n      \"properties\": {\n        \"dtype\": \"number\",\n        \"std\": 22,\n        \"min\": 0,\n        \"max\": 90,\n        \"num_unique_values\": 62,\n        \"samples\": [\n          40,\n          38,\n          65\n        ],\n        \"semantic_type\": \"\",\n        \"description\": \"\"\n      }\n    },\n    {\n      \"column\": \"goalkeeping\",\n      \"properties\": {\n        \"dtype\": \"number\",\n        \"std\": 16.080640233095885,\n        \"min\": 1.6666666666666667,\n        \"max\": 83.66666666666667,\n        \"num_unique_values\": 296,\n        \"samples\": [\n          45.833333333333336,\n          14.0,\n          72.83333333333333\n        ],\n        \"semantic_type\": \"\",\n        \"description\": \"\"\n      }\n    },\n    {\n      \"column\": \"mentality_att\",\n      \"properties\": {\n        \"dtype\": \"number\",\n        \"std\": 12.513767331445283,\n        \"min\": 10.5,\n        \"max\": 83.5,\n        \"num_unique_values\": 405,\n        \"samples\": [\n          69.66666666666667,\n          26.0,\n          14.666666666666666\n        ],\n        \"semantic_type\": \"\",\n        \"description\": \"\"\n      }\n    },\n    {\n      \"column\": \"goodballskills\",\n      \"properties\": {\n        \"dtype\": \"number\",\n        \"std\": 15.737174824872902,\n        \"min\": 8.6,\n        \"max\": 94.0,\n        \"num_unique_values\": 390,\n        \"samples\": [\n          80.4,\n          77.6,\n          87.4\n        ],\n        \"semantic_type\": \"\",\n        \"description\": \"\"\n      }\n    },\n    {\n      \"column\": \"shooting\",\n      \"properties\": {\n        \"dtype\": \"number\",\n        \"std\": 17.246016280183788,\n        \"min\": 10.0,\n        \"max\": 92.4,\n        \"num_unique_values\": 389,\n        \"samples\": [\n          15.2,\n          21.2,\n          43.8\n        ],\n        \"semantic_type\": \"\",\n        \"description\": \"\"\n      }\n    },\n    {\n      \"column\": \"passing\",\n      \"properties\": {\n        \"dtype\": \"number\",\n        \"std\": 13.839727048598345,\n        \"min\": 13.25,\n        \"max\": 93.0,\n        \"num_unique_values\": 298,\n        \"samples\": [\n          61.5,\n          22.0,\n          46.0\n        ],\n        \"semantic_type\": \"\",\n        \"description\": \"\"\n      }\n    }\n  ]\n}"
            }
          },
          "metadata": {},
          "execution_count": 42
        }
      ]
    },
    {
      "cell_type": "code",
      "source": [
        "x1scaled = sc.fit_transform(x1)\n",
        "x1 = pd.DataFrame(x1scaled, columns=x1.columns)\n",
        "x1train,x1test,Y1train,Y1test=train_test_split(x1,y1,test_size=0.1,random_state=42)"
      ],
      "metadata": {
        "id": "20z5YgbdPXIe"
      },
      "execution_count": 43,
      "outputs": []
    },
    {
      "cell_type": "code",
      "source": [
        "rfg.fit(x1train, Y1train)\n",
        "rfg_ypred2 =rfg.predict(x1test)\n",
        "rfg_ypred2"
      ],
      "metadata": {
        "colab": {
          "base_uri": "https://localhost:8080/"
        },
        "id": "cEKO2hvgWI28",
        "outputId": "555eb1f9-b782-4c76-ff91-b32d17f9af22"
      },
      "execution_count": 48,
      "outputs": [
        {
          "output_type": "execute_result",
          "data": {
            "text/plain": [
              "array([63.41, 57.  , 53.61, ..., 65.92, 75.72, 68.74])"
            ]
          },
          "metadata": {},
          "execution_count": 48
        }
      ]
    },
    {
      "cell_type": "code",
      "source": [
        "rfgabsolute_err2 = mean_absolute_error(rfg_ypred2,Y1test)\n",
        "rfgabsolute_err2"
      ],
      "metadata": {
        "colab": {
          "base_uri": "https://localhost:8080/"
        },
        "id": "tTVLThYdWIwd",
        "outputId": "4e1a44b8-1e37-4b35-f89a-2ed96b8a9e8c"
      },
      "execution_count": 49,
      "outputs": [
        {
          "output_type": "execute_result",
          "data": {
            "text/plain": [
              "0.7011798336798337"
            ]
          },
          "metadata": {},
          "execution_count": 49
        }
      ]
    },
    {
      "cell_type": "code",
      "source": [
        "gbr.fit(x1train, Y1train)\n",
        "gbr_ypred2 = gbr.predict(x1test)"
      ],
      "metadata": {
        "id": "wbFN2NqMWIsc"
      },
      "execution_count": 50,
      "outputs": []
    },
    {
      "cell_type": "code",
      "source": [
        "gbrabsolute_err2 = mean_absolute_error(gbr_ypred2, Y1test)\n",
        "gbrabsolute_err2"
      ],
      "metadata": {
        "colab": {
          "base_uri": "https://localhost:8080/"
        },
        "id": "yOJ9NXomW7dG",
        "outputId": "0eb0e2ab-b726-416c-e9e9-e70ef9310dd8"
      },
      "execution_count": 51,
      "outputs": [
        {
          "output_type": "execute_result",
          "data": {
            "text/plain": [
              "0.9452194537978091"
            ]
          },
          "metadata": {},
          "execution_count": 51
        }
      ]
    },
    {
      "cell_type": "markdown",
      "source": [
        "  Hyperparameter tuning"
      ],
      "metadata": {
        "id": "62ShugjZXg9C"
      }
    },
    {
      "cell_type": "code",
      "source": [
        "gridparam = {\n",
        "    'n_estimators': [10, 15, 20],\n",
        "    'max_depth': [None, 10, 20],\n",
        "    'min_samples_split': [2, 5, 10],\n",
        "    'min_samples_leaf': [1, 2, 4]\n",
        "}\n",
        "\n",
        "gsearch = GridSearchCV(estimator=rfg, param_grid=gridparam, cv=5, n_jobs=-1, verbose=2)\n",
        "gsearch.fit(x1train, Y1train)\n",
        "best_param = gsearch.best_params_\n",
        "\n",
        "best_rfg = RandomForestRegressor(**best_param)\n",
        "best_rfg.fit(x1train, Y1train)\n",
        "rfg_tunedpredy = best_rfg.predict(x1test)\n",
        "rfg_tuned_abserr = mean_absolute_error(rfg_tunedpredy, Y1test)\n",
        "print(\"Best Hyperparameters:\", best_param)\n",
        "print(\"Mean Absolute Error for Tuned Random Forest: \", rfg_tuned_abserr)"
      ],
      "metadata": {
        "colab": {
          "base_uri": "https://localhost:8080/"
        },
        "id": "hq_2zUGFW7Zv",
        "outputId": "170b8a49-42db-476f-a360-635df865864e"
      },
      "execution_count": 53,
      "outputs": [
        {
          "output_type": "stream",
          "name": "stdout",
          "text": [
            "Fitting 5 folds for each of 81 candidates, totalling 405 fits\n",
            "Best Hyperparameters: {'max_depth': 20, 'min_samples_leaf': 2, 'min_samples_split': 5, 'n_estimators': 20}\n",
            "Mean Absolute Error for Tuned Random Forest:  0.7241834481357148\n"
          ]
        }
      ]
    },
    {
      "cell_type": "code",
      "source": [
        "gridparam2 = {\n",
        "    'n_estimators': [10, 15, 20],\n",
        "    'max_depth': [3, 5, 9],\n",
        "    'learning_rate': [0.01, 0.1, 0.2],\n",
        "    'subsample': [0.8, 1.0],\n",
        "}\n",
        "\n",
        "gsearch2 = GridSearchCV(estimator= gbr, param_grid =gridparam2, cv=5, n_jobs=-1, verbose=2)\n",
        "gsearch2.fit(x1train, Y1train)\n",
        "best_param2 = gsearch2.best_params_\n",
        "\n",
        "best_gbr = GradientBoostingRegressor(**best_param2)\n",
        "best_gbr.fit(x1train, Y1train)\n",
        "gbr_tunedpredy = best_gbr.predict(x1test)\n",
        "gbr_tuned_abserr = mean_absolute_error(gbr_tunedpredy, Y1test)\n",
        "print(\"Best Hyperparameters:\", best_param2)\n",
        "print(\"Mean Absolute Error for Tuned Gradient Boosting Regressor: \", gbr_tuned_abserr)"
      ],
      "metadata": {
        "colab": {
          "base_uri": "https://localhost:8080/"
        },
        "id": "D9GT2S0ncy-r",
        "outputId": "be0464e4-c21b-4215-c512-d29d2ee878ee"
      },
      "execution_count": 55,
      "outputs": [
        {
          "output_type": "stream",
          "name": "stdout",
          "text": [
            "Fitting 5 folds for each of 54 candidates, totalling 270 fits\n",
            "Best Hyperparameters: {'learning_rate': 0.2, 'max_depth': 9, 'n_estimators': 20, 'subsample': 1.0}\n",
            "Mean Absolute Error for Tuned Gradient Boosting Regressor:  0.7564697136145009\n"
          ]
        }
      ]
    },
    {
      "cell_type": "code",
      "source": [
        "ensemblemodel = VotingRegressor(estimators=[('rfg', rfg), ('gbr', gbr)])\n",
        "ensemblemodel.fit(xtrain, Ytrain)\n",
        "ensemblepredictions = ensemblemodel.predict(xtest)\n",
        "print(ensemblepredictions)\n",
        "print(xtest)\n",
        "print(Ytest)\n",
        "\n",
        "ensemble_abserr2 = mean_absolute_error(ensemblepredictions, Ytest)\n",
        "ensemble_abserr2"
      ],
      "metadata": {
        "colab": {
          "base_uri": "https://localhost:8080/"
        },
        "id": "CALMzfb4cy7o",
        "outputId": "627fb664-0d22-4922-8dc0-2316e87af9db"
      },
      "execution_count": 56,
      "outputs": [
        {
          "output_type": "stream",
          "name": "stdout",
          "text": [
            "[57.71871136 66.49514411 67.11502105 ... 58.46958064 52.4965031\n",
            " 74.15822429]\n",
            "        potential       age  dribbling  defending    physic  catching  \\\n",
            "30172   -0.438403 -1.096996   0.267060  -1.266488  0.151836 -0.403432   \n",
            "41228   -0.598170  0.615996   0.312930  -0.821278  0.286070 -0.331435   \n",
            "75100   -0.438403  0.401872   0.771638  -0.509631  0.688771 -0.341720   \n",
            "63911    1.159271 -1.525244   0.221189  -0.999362 -0.340355 -0.382861   \n",
            "131921   0.679969 -0.454624   0.450542   0.825998  0.330814 -0.362291   \n",
            "...           ...       ...        ...        ...       ...       ...   \n",
            "158534   0.360434 -1.096996   0.496413  -0.687715 -0.832546 -0.362291   \n",
            "103412   0.040899 -1.096996  -0.054035   0.202704 -0.250866 -0.352005   \n",
            "83895   -0.438403 -0.882872  -0.925579   0.692435  0.107091 -0.331435   \n",
            "32385   -0.757937 -1.525244  -0.008165  -1.177446 -0.295611 -0.475428   \n",
            "34784    0.999503 -0.026376   1.138603   0.870519  0.778261 -0.465143   \n",
            "\n",
            "        mentality  ballskills  shooting   passing  \n",
            "30172   -1.095154   -0.324606  0.195809 -0.165940  \n",
            "41228    0.130834    0.455146  1.171816 -0.129883  \n",
            "75100   -0.172368    0.365666  0.781414  0.248714  \n",
            "63911   -0.080089   -0.171212  0.436941 -0.580593  \n",
            "131921   0.934976    0.595757  0.333599  0.663367  \n",
            "...           ...         ...       ...       ...  \n",
            "158534  -0.673309    0.148358  0.436941 -0.562564  \n",
            "103412  -0.554665   -0.478000 -0.527584 -0.454394  \n",
            "83895   -0.699674   -1.411146 -1.090224 -1.193558  \n",
            "32385   -1.569729   -0.580263  0.103950 -0.887076  \n",
            "34784    1.620474    1.298813  1.091439  1.114077  \n",
            "\n",
            "[16159 rows x 10 columns]\n",
            "30172     58\n",
            "41228     67\n",
            "75100     68\n",
            "63911     62\n",
            "131921    67\n",
            "          ..\n",
            "158534    60\n",
            "103412    56\n",
            "83895     59\n",
            "32385     52\n",
            "34784     75\n",
            "Name: overall, Length: 16159, dtype: int64\n"
          ]
        },
        {
          "output_type": "execute_result",
          "data": {
            "text/plain": [
              "0.7538618825583244"
            ]
          },
          "metadata": {},
          "execution_count": 56
        }
      ]
    },
    {
      "cell_type": "markdown",
      "source": [
        "Copying data to a file"
      ],
      "metadata": {
        "id": "1asC9EV-IZxQ"
      }
    },
    {
      "cell_type": "code",
      "source": [
        "scfile_path = '/content/drive/My Drive/players/scaler_ensemble.pkl'\n",
        "joblib.dump(sc, scfile_path)"
      ],
      "metadata": {
        "colab": {
          "base_uri": "https://localhost:8080/"
        },
        "id": "CtSYxcXRcyfa",
        "outputId": "31007643-c95e-4dde-f887-624f73f75244"
      },
      "execution_count": 57,
      "outputs": [
        {
          "output_type": "execute_result",
          "data": {
            "text/plain": [
              "['/content/drive/My Drive/players/scaler_ensemble.pkl']"
            ]
          },
          "metadata": {},
          "execution_count": 57
        }
      ]
    },
    {
      "cell_type": "code",
      "source": [
        "import pickle\n",
        "spfile = '/content/drive/My Drive/Colab Notebooks/sports_prediction_ensemble_model.pkl'\n",
        "pickle.dump(ensemblemodel, open(spfile, 'wb'))\n",
        "loadedm = pickle.load(open(spfile, 'rb'))"
      ],
      "metadata": {
        "id": "7Znbi269W7Q3"
      },
      "execution_count": 58,
      "outputs": []
    },
    {
      "cell_type": "code",
      "source": [],
      "metadata": {
        "id": "eIitcn6MoZAm"
      },
      "execution_count": null,
      "outputs": []
    }
  ]
}